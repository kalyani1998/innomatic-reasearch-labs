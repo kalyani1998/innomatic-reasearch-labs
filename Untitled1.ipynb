{
  "cells": [
    {
      "cell_type": "markdown",
      "metadata": {
        "id": "view-in-github",
        "colab_type": "text"
      },
      "source": [
        "<a href=\"https://colab.research.google.com/github/kalyani1998/innomatic-reasearch-labs/blob/main/Untitled1.ipynb\" target=\"_parent\"><img src=\"https://colab.research.google.com/assets/colab-badge.svg\" alt=\"Open In Colab\"/></a>"
      ]
    },
    {
      "cell_type": "code",
      "execution_count": null,
      "metadata": {
        "id": "b5aXV-fZZunl"
      },
      "outputs": [],
      "source": [
        "import pandas as pd\n",
        "import numpy as np\n",
        "import matplotlib.pyplot as plt\n",
        "import seaborn as sns\n",
        "\n",
        "import datetime as dt"
      ]
    },
    {
      "cell_type": "code",
      "execution_count": null,
      "metadata": {
        "colab": {
          "base_uri": "https://localhost:8080/",
          "height": 35
        },
        "id": "N4RaQQtJa2Mt",
        "outputId": "1f58c159-4892-4d53-b484-26fd448184d9"
      },
      "outputs": [
        {
          "data": {
            "application/vnd.google.colaboratory.intrinsic+json": {
              "type": "string"
            },
            "text/plain": [
              "'/content'"
            ]
          },
          "execution_count": 2,
          "metadata": {},
          "output_type": "execute_result"
        }
      ],
      "source": [
        "pwd"
      ]
    },
    {
      "cell_type": "code",
      "execution_count": null,
      "metadata": {
        "id": "KNLcEY0Pa4QP"
      },
      "outputs": [],
      "source": [
        "df = pd.read_excel('aspiring_minds_employability_outcomes_2015.xlsx')"
      ]
    },
    {
      "cell_type": "code",
      "execution_count": null,
      "metadata": {
        "colab": {
          "base_uri": "https://localhost:8080/",
          "height": 426
        },
        "id": "wRfDoJcna8ci",
        "outputId": "3b2e7a60-0ddb-4358-ead5-cb20e409e44a"
      },
      "outputs": [
        {
          "data": {
            "text/html": [
              "\n",
              "  <div id=\"df-1a40092c-71c0-4cd6-b05a-99821b0404d6\">\n",
              "    <div class=\"colab-df-container\">\n",
              "      <div>\n",
              "<style scoped>\n",
              "    .dataframe tbody tr th:only-of-type {\n",
              "        vertical-align: middle;\n",
              "    }\n",
              "\n",
              "    .dataframe tbody tr th {\n",
              "        vertical-align: top;\n",
              "    }\n",
              "\n",
              "    .dataframe thead th {\n",
              "        text-align: right;\n",
              "    }\n",
              "</style>\n",
              "<table border=\"1\" class=\"dataframe\">\n",
              "  <thead>\n",
              "    <tr style=\"text-align: right;\">\n",
              "      <th></th>\n",
              "      <th>ID</th>\n",
              "      <th>Salary</th>\n",
              "      <th>DOJ</th>\n",
              "      <th>DOL</th>\n",
              "      <th>Designation</th>\n",
              "      <th>JobCity</th>\n",
              "      <th>Gender</th>\n",
              "      <th>DOB</th>\n",
              "      <th>10percentage</th>\n",
              "      <th>10board</th>\n",
              "      <th>12graduation</th>\n",
              "      <th>12percentage</th>\n",
              "      <th>12board</th>\n",
              "      <th>CollegeID</th>\n",
              "      <th>CollegeTier</th>\n",
              "      <th>Degree</th>\n",
              "      <th>Specialization</th>\n",
              "      <th>collegeGPA</th>\n",
              "      <th>CollegeCityID</th>\n",
              "      <th>CollegeCityTier</th>\n",
              "      <th>CollegeState</th>\n",
              "      <th>GraduationYear</th>\n",
              "      <th>English</th>\n",
              "      <th>Logical</th>\n",
              "      <th>Quant</th>\n",
              "      <th>Domain</th>\n",
              "      <th>ComputerProgramming</th>\n",
              "      <th>ElectronicsAndSemicon</th>\n",
              "      <th>ComputerScience</th>\n",
              "      <th>MechanicalEngg</th>\n",
              "      <th>ElectricalEngg</th>\n",
              "      <th>TelecomEngg</th>\n",
              "      <th>CivilEngg</th>\n",
              "      <th>conscientiousness</th>\n",
              "      <th>agreeableness</th>\n",
              "      <th>extraversion</th>\n",
              "      <th>nueroticism</th>\n",
              "      <th>openess_to_experience</th>\n",
              "    </tr>\n",
              "  </thead>\n",
              "  <tbody>\n",
              "    <tr>\n",
              "      <th>0</th>\n",
              "      <td>203097</td>\n",
              "      <td>420000</td>\n",
              "      <td>2012-06-01</td>\n",
              "      <td>present</td>\n",
              "      <td>senior quality engineer</td>\n",
              "      <td>Bangalore</td>\n",
              "      <td>f</td>\n",
              "      <td>1990-02-19</td>\n",
              "      <td>84.3</td>\n",
              "      <td>board ofsecondary education,ap</td>\n",
              "      <td>2007</td>\n",
              "      <td>95.8</td>\n",
              "      <td>board of intermediate education,ap</td>\n",
              "      <td>1141</td>\n",
              "      <td>2</td>\n",
              "      <td>B.Tech/B.E.</td>\n",
              "      <td>computer engineering</td>\n",
              "      <td>78.00</td>\n",
              "      <td>1141</td>\n",
              "      <td>0</td>\n",
              "      <td>Andhra Pradesh</td>\n",
              "      <td>2011</td>\n",
              "      <td>515</td>\n",
              "      <td>585</td>\n",
              "      <td>525</td>\n",
              "      <td>0.635979</td>\n",
              "      <td>445</td>\n",
              "      <td>-1</td>\n",
              "      <td>-1</td>\n",
              "      <td>-1</td>\n",
              "      <td>-1</td>\n",
              "      <td>-1</td>\n",
              "      <td>-1</td>\n",
              "      <td>0.9737</td>\n",
              "      <td>0.8128</td>\n",
              "      <td>0.5269</td>\n",
              "      <td>1.35490</td>\n",
              "      <td>-0.4455</td>\n",
              "    </tr>\n",
              "    <tr>\n",
              "      <th>1</th>\n",
              "      <td>579905</td>\n",
              "      <td>500000</td>\n",
              "      <td>2013-09-01</td>\n",
              "      <td>present</td>\n",
              "      <td>assistant manager</td>\n",
              "      <td>Indore</td>\n",
              "      <td>m</td>\n",
              "      <td>1989-10-04</td>\n",
              "      <td>85.4</td>\n",
              "      <td>cbse</td>\n",
              "      <td>2007</td>\n",
              "      <td>85.0</td>\n",
              "      <td>cbse</td>\n",
              "      <td>5807</td>\n",
              "      <td>2</td>\n",
              "      <td>B.Tech/B.E.</td>\n",
              "      <td>electronics and communication engineering</td>\n",
              "      <td>70.06</td>\n",
              "      <td>5807</td>\n",
              "      <td>0</td>\n",
              "      <td>Madhya Pradesh</td>\n",
              "      <td>2012</td>\n",
              "      <td>695</td>\n",
              "      <td>610</td>\n",
              "      <td>780</td>\n",
              "      <td>0.960603</td>\n",
              "      <td>-1</td>\n",
              "      <td>466</td>\n",
              "      <td>-1</td>\n",
              "      <td>-1</td>\n",
              "      <td>-1</td>\n",
              "      <td>-1</td>\n",
              "      <td>-1</td>\n",
              "      <td>-0.7335</td>\n",
              "      <td>0.3789</td>\n",
              "      <td>1.2396</td>\n",
              "      <td>-0.10760</td>\n",
              "      <td>0.8637</td>\n",
              "    </tr>\n",
              "    <tr>\n",
              "      <th>2</th>\n",
              "      <td>810601</td>\n",
              "      <td>325000</td>\n",
              "      <td>2014-06-01</td>\n",
              "      <td>present</td>\n",
              "      <td>systems engineer</td>\n",
              "      <td>Chennai</td>\n",
              "      <td>f</td>\n",
              "      <td>1992-08-03</td>\n",
              "      <td>85.0</td>\n",
              "      <td>cbse</td>\n",
              "      <td>2010</td>\n",
              "      <td>68.2</td>\n",
              "      <td>cbse</td>\n",
              "      <td>64</td>\n",
              "      <td>2</td>\n",
              "      <td>B.Tech/B.E.</td>\n",
              "      <td>information technology</td>\n",
              "      <td>70.00</td>\n",
              "      <td>64</td>\n",
              "      <td>0</td>\n",
              "      <td>Uttar Pradesh</td>\n",
              "      <td>2014</td>\n",
              "      <td>615</td>\n",
              "      <td>545</td>\n",
              "      <td>370</td>\n",
              "      <td>0.450877</td>\n",
              "      <td>395</td>\n",
              "      <td>-1</td>\n",
              "      <td>-1</td>\n",
              "      <td>-1</td>\n",
              "      <td>-1</td>\n",
              "      <td>-1</td>\n",
              "      <td>-1</td>\n",
              "      <td>0.2718</td>\n",
              "      <td>1.7109</td>\n",
              "      <td>0.1637</td>\n",
              "      <td>-0.86820</td>\n",
              "      <td>0.6721</td>\n",
              "    </tr>\n",
              "    <tr>\n",
              "      <th>3</th>\n",
              "      <td>267447</td>\n",
              "      <td>1100000</td>\n",
              "      <td>2011-07-01</td>\n",
              "      <td>present</td>\n",
              "      <td>senior software engineer</td>\n",
              "      <td>Gurgaon</td>\n",
              "      <td>m</td>\n",
              "      <td>1989-12-05</td>\n",
              "      <td>85.6</td>\n",
              "      <td>cbse</td>\n",
              "      <td>2007</td>\n",
              "      <td>83.6</td>\n",
              "      <td>cbse</td>\n",
              "      <td>6920</td>\n",
              "      <td>1</td>\n",
              "      <td>B.Tech/B.E.</td>\n",
              "      <td>computer engineering</td>\n",
              "      <td>74.64</td>\n",
              "      <td>6920</td>\n",
              "      <td>1</td>\n",
              "      <td>Delhi</td>\n",
              "      <td>2011</td>\n",
              "      <td>635</td>\n",
              "      <td>585</td>\n",
              "      <td>625</td>\n",
              "      <td>0.974396</td>\n",
              "      <td>615</td>\n",
              "      <td>-1</td>\n",
              "      <td>-1</td>\n",
              "      <td>-1</td>\n",
              "      <td>-1</td>\n",
              "      <td>-1</td>\n",
              "      <td>-1</td>\n",
              "      <td>0.0464</td>\n",
              "      <td>0.3448</td>\n",
              "      <td>-0.3440</td>\n",
              "      <td>-0.40780</td>\n",
              "      <td>-0.9194</td>\n",
              "    </tr>\n",
              "    <tr>\n",
              "      <th>4</th>\n",
              "      <td>343523</td>\n",
              "      <td>200000</td>\n",
              "      <td>2014-03-01</td>\n",
              "      <td>2015-03-01 00:00:00</td>\n",
              "      <td>get</td>\n",
              "      <td>Manesar</td>\n",
              "      <td>m</td>\n",
              "      <td>1991-02-27</td>\n",
              "      <td>78.0</td>\n",
              "      <td>cbse</td>\n",
              "      <td>2008</td>\n",
              "      <td>76.8</td>\n",
              "      <td>cbse</td>\n",
              "      <td>11368</td>\n",
              "      <td>2</td>\n",
              "      <td>B.Tech/B.E.</td>\n",
              "      <td>electronics and communication engineering</td>\n",
              "      <td>73.90</td>\n",
              "      <td>11368</td>\n",
              "      <td>0</td>\n",
              "      <td>Uttar Pradesh</td>\n",
              "      <td>2012</td>\n",
              "      <td>545</td>\n",
              "      <td>625</td>\n",
              "      <td>465</td>\n",
              "      <td>0.124502</td>\n",
              "      <td>-1</td>\n",
              "      <td>233</td>\n",
              "      <td>-1</td>\n",
              "      <td>-1</td>\n",
              "      <td>-1</td>\n",
              "      <td>-1</td>\n",
              "      <td>-1</td>\n",
              "      <td>-0.8810</td>\n",
              "      <td>-0.2793</td>\n",
              "      <td>-1.0697</td>\n",
              "      <td>0.09163</td>\n",
              "      <td>-0.1295</td>\n",
              "    </tr>\n",
              "  </tbody>\n",
              "</table>\n",
              "</div>\n",
              "      <button class=\"colab-df-convert\" onclick=\"convertToInteractive('df-1a40092c-71c0-4cd6-b05a-99821b0404d6')\"\n",
              "              title=\"Convert this dataframe to an interactive table.\"\n",
              "              style=\"display:none;\">\n",
              "        \n",
              "  <svg xmlns=\"http://www.w3.org/2000/svg\" height=\"24px\"viewBox=\"0 0 24 24\"\n",
              "       width=\"24px\">\n",
              "    <path d=\"M0 0h24v24H0V0z\" fill=\"none\"/>\n",
              "    <path d=\"M18.56 5.44l.94 2.06.94-2.06 2.06-.94-2.06-.94-.94-2.06-.94 2.06-2.06.94zm-11 1L8.5 8.5l.94-2.06 2.06-.94-2.06-.94L8.5 2.5l-.94 2.06-2.06.94zm10 10l.94 2.06.94-2.06 2.06-.94-2.06-.94-.94-2.06-.94 2.06-2.06.94z\"/><path d=\"M17.41 7.96l-1.37-1.37c-.4-.4-.92-.59-1.43-.59-.52 0-1.04.2-1.43.59L10.3 9.45l-7.72 7.72c-.78.78-.78 2.05 0 2.83L4 21.41c.39.39.9.59 1.41.59.51 0 1.02-.2 1.41-.59l7.78-7.78 2.81-2.81c.8-.78.8-2.07 0-2.86zM5.41 20L4 18.59l7.72-7.72 1.47 1.35L5.41 20z\"/>\n",
              "  </svg>\n",
              "      </button>\n",
              "      \n",
              "  <style>\n",
              "    .colab-df-container {\n",
              "      display:flex;\n",
              "      flex-wrap:wrap;\n",
              "      gap: 12px;\n",
              "    }\n",
              "\n",
              "    .colab-df-convert {\n",
              "      background-color: #E8F0FE;\n",
              "      border: none;\n",
              "      border-radius: 50%;\n",
              "      cursor: pointer;\n",
              "      display: none;\n",
              "      fill: #1967D2;\n",
              "      height: 32px;\n",
              "      padding: 0 0 0 0;\n",
              "      width: 32px;\n",
              "    }\n",
              "\n",
              "    .colab-df-convert:hover {\n",
              "      background-color: #E2EBFA;\n",
              "      box-shadow: 0px 1px 2px rgba(60, 64, 67, 0.3), 0px 1px 3px 1px rgba(60, 64, 67, 0.15);\n",
              "      fill: #174EA6;\n",
              "    }\n",
              "\n",
              "    [theme=dark] .colab-df-convert {\n",
              "      background-color: #3B4455;\n",
              "      fill: #D2E3FC;\n",
              "    }\n",
              "\n",
              "    [theme=dark] .colab-df-convert:hover {\n",
              "      background-color: #434B5C;\n",
              "      box-shadow: 0px 1px 3px 1px rgba(0, 0, 0, 0.15);\n",
              "      filter: drop-shadow(0px 1px 2px rgba(0, 0, 0, 0.3));\n",
              "      fill: #FFFFFF;\n",
              "    }\n",
              "  </style>\n",
              "\n",
              "      <script>\n",
              "        const buttonEl =\n",
              "          document.querySelector('#df-1a40092c-71c0-4cd6-b05a-99821b0404d6 button.colab-df-convert');\n",
              "        buttonEl.style.display =\n",
              "          google.colab.kernel.accessAllowed ? 'block' : 'none';\n",
              "\n",
              "        async function convertToInteractive(key) {\n",
              "          const element = document.querySelector('#df-1a40092c-71c0-4cd6-b05a-99821b0404d6');\n",
              "          const dataTable =\n",
              "            await google.colab.kernel.invokeFunction('convertToInteractive',\n",
              "                                                     [key], {});\n",
              "          if (!dataTable) return;\n",
              "\n",
              "          const docLinkHtml = 'Like what you see? Visit the ' +\n",
              "            '<a target=\"_blank\" href=https://colab.research.google.com/notebooks/data_table.ipynb>data table notebook</a>'\n",
              "            + ' to learn more about interactive tables.';\n",
              "          element.innerHTML = '';\n",
              "          dataTable['output_type'] = 'display_data';\n",
              "          await google.colab.output.renderOutput(dataTable, element);\n",
              "          const docLink = document.createElement('div');\n",
              "          docLink.innerHTML = docLinkHtml;\n",
              "          element.appendChild(docLink);\n",
              "        }\n",
              "      </script>\n",
              "    </div>\n",
              "  </div>\n",
              "  "
            ],
            "text/plain": [
              "       ID   Salary        DOJ                  DOL               Designation  \\\n",
              "0  203097   420000 2012-06-01              present   senior quality engineer   \n",
              "1  579905   500000 2013-09-01              present         assistant manager   \n",
              "2  810601   325000 2014-06-01              present          systems engineer   \n",
              "3  267447  1100000 2011-07-01              present  senior software engineer   \n",
              "4  343523   200000 2014-03-01  2015-03-01 00:00:00                       get   \n",
              "\n",
              "     JobCity Gender        DOB  10percentage                         10board  \\\n",
              "0  Bangalore      f 1990-02-19          84.3  board ofsecondary education,ap   \n",
              "1     Indore      m 1989-10-04          85.4                            cbse   \n",
              "2    Chennai      f 1992-08-03          85.0                            cbse   \n",
              "3    Gurgaon      m 1989-12-05          85.6                            cbse   \n",
              "4    Manesar      m 1991-02-27          78.0                            cbse   \n",
              "\n",
              "   12graduation  12percentage                             12board  CollegeID  \\\n",
              "0          2007          95.8  board of intermediate education,ap       1141   \n",
              "1          2007          85.0                                cbse       5807   \n",
              "2          2010          68.2                                cbse         64   \n",
              "3          2007          83.6                                cbse       6920   \n",
              "4          2008          76.8                                cbse      11368   \n",
              "\n",
              "   CollegeTier       Degree                             Specialization  \\\n",
              "0            2  B.Tech/B.E.                       computer engineering   \n",
              "1            2  B.Tech/B.E.  electronics and communication engineering   \n",
              "2            2  B.Tech/B.E.                     information technology   \n",
              "3            1  B.Tech/B.E.                       computer engineering   \n",
              "4            2  B.Tech/B.E.  electronics and communication engineering   \n",
              "\n",
              "   collegeGPA  CollegeCityID  CollegeCityTier    CollegeState  GraduationYear  \\\n",
              "0       78.00           1141                0  Andhra Pradesh            2011   \n",
              "1       70.06           5807                0  Madhya Pradesh            2012   \n",
              "2       70.00             64                0   Uttar Pradesh            2014   \n",
              "3       74.64           6920                1           Delhi            2011   \n",
              "4       73.90          11368                0   Uttar Pradesh            2012   \n",
              "\n",
              "   English  Logical  Quant    Domain  ComputerProgramming  \\\n",
              "0      515      585    525  0.635979                  445   \n",
              "1      695      610    780  0.960603                   -1   \n",
              "2      615      545    370  0.450877                  395   \n",
              "3      635      585    625  0.974396                  615   \n",
              "4      545      625    465  0.124502                   -1   \n",
              "\n",
              "   ElectronicsAndSemicon  ComputerScience  MechanicalEngg  ElectricalEngg  \\\n",
              "0                     -1               -1              -1              -1   \n",
              "1                    466               -1              -1              -1   \n",
              "2                     -1               -1              -1              -1   \n",
              "3                     -1               -1              -1              -1   \n",
              "4                    233               -1              -1              -1   \n",
              "\n",
              "   TelecomEngg  CivilEngg  conscientiousness  agreeableness  extraversion  \\\n",
              "0           -1         -1             0.9737         0.8128        0.5269   \n",
              "1           -1         -1            -0.7335         0.3789        1.2396   \n",
              "2           -1         -1             0.2718         1.7109        0.1637   \n",
              "3           -1         -1             0.0464         0.3448       -0.3440   \n",
              "4           -1         -1            -0.8810        -0.2793       -1.0697   \n",
              "\n",
              "   nueroticism  openess_to_experience  \n",
              "0      1.35490                -0.4455  \n",
              "1     -0.10760                 0.8637  \n",
              "2     -0.86820                 0.6721  \n",
              "3     -0.40780                -0.9194  \n",
              "4      0.09163                -0.1295  "
            ]
          },
          "execution_count": 9,
          "metadata": {},
          "output_type": "execute_result"
        }
      ],
      "source": [
        "df.head()\n"
      ]
    },
    {
      "cell_type": "code",
      "execution_count": null,
      "metadata": {
        "id": "c9id8zRMbQCg"
      },
      "outputs": [],
      "source": []
    },
    {
      "cell_type": "code",
      "execution_count": null,
      "metadata": {
        "id": "_gpkezutbSkB"
      },
      "outputs": [],
      "source": []
    },
    {
      "cell_type": "code",
      "execution_count": null,
      "metadata": {
        "id": "W6SsLkyJbFvl"
      },
      "outputs": [],
      "source": [
        "pd.set_option('display.max_columns', None)"
      ]
    },
    {
      "cell_type": "code",
      "execution_count": null,
      "metadata": {
        "id": "rnTjz_bDbIY-"
      },
      "outputs": [],
      "source": [
        "df.drop('Unnamed: 0', inplace=True, axis=1)"
      ]
    },
    {
      "cell_type": "code",
      "execution_count": null,
      "metadata": {
        "colab": {
          "base_uri": "https://localhost:8080/",
          "height": 444
        },
        "id": "jNyEye7nbKzf",
        "outputId": "728beb29-27bf-46c7-bbb1-7e718f9dc1e6"
      },
      "outputs": [
        {
          "data": {
            "text/html": [
              "\n",
              "  <div id=\"df-cf03bed0-8fa8-4299-8971-582db2c561ae\">\n",
              "    <div class=\"colab-df-container\">\n",
              "      <div>\n",
              "<style scoped>\n",
              "    .dataframe tbody tr th:only-of-type {\n",
              "        vertical-align: middle;\n",
              "    }\n",
              "\n",
              "    .dataframe tbody tr th {\n",
              "        vertical-align: top;\n",
              "    }\n",
              "\n",
              "    .dataframe thead th {\n",
              "        text-align: right;\n",
              "    }\n",
              "</style>\n",
              "<table border=\"1\" class=\"dataframe\">\n",
              "  <thead>\n",
              "    <tr style=\"text-align: right;\">\n",
              "      <th></th>\n",
              "      <th>Unnamed: 0</th>\n",
              "      <th>ID</th>\n",
              "      <th>Salary</th>\n",
              "      <th>DOJ</th>\n",
              "      <th>DOL</th>\n",
              "      <th>Designation</th>\n",
              "      <th>JobCity</th>\n",
              "      <th>Gender</th>\n",
              "      <th>DOB</th>\n",
              "      <th>10percentage</th>\n",
              "      <th>10board</th>\n",
              "      <th>12graduation</th>\n",
              "      <th>12percentage</th>\n",
              "      <th>12board</th>\n",
              "      <th>CollegeID</th>\n",
              "      <th>CollegeTier</th>\n",
              "      <th>Degree</th>\n",
              "      <th>Specialization</th>\n",
              "      <th>collegeGPA</th>\n",
              "      <th>CollegeCityID</th>\n",
              "      <th>CollegeCityTier</th>\n",
              "      <th>CollegeState</th>\n",
              "      <th>GraduationYear</th>\n",
              "      <th>English</th>\n",
              "      <th>Logical</th>\n",
              "      <th>Quant</th>\n",
              "      <th>Domain</th>\n",
              "      <th>ComputerProgramming</th>\n",
              "      <th>ElectronicsAndSemicon</th>\n",
              "      <th>ComputerScience</th>\n",
              "      <th>MechanicalEngg</th>\n",
              "      <th>ElectricalEngg</th>\n",
              "      <th>TelecomEngg</th>\n",
              "      <th>CivilEngg</th>\n",
              "      <th>conscientiousness</th>\n",
              "      <th>agreeableness</th>\n",
              "      <th>extraversion</th>\n",
              "      <th>nueroticism</th>\n",
              "      <th>openess_to_experience</th>\n",
              "    </tr>\n",
              "  </thead>\n",
              "  <tbody>\n",
              "    <tr>\n",
              "      <th>0</th>\n",
              "      <td>train</td>\n",
              "      <td>203097</td>\n",
              "      <td>420000</td>\n",
              "      <td>2012-06-01</td>\n",
              "      <td>present</td>\n",
              "      <td>senior quality engineer</td>\n",
              "      <td>Bangalore</td>\n",
              "      <td>f</td>\n",
              "      <td>1990-02-19</td>\n",
              "      <td>84.3</td>\n",
              "      <td>board ofsecondary education,ap</td>\n",
              "      <td>2007</td>\n",
              "      <td>95.8</td>\n",
              "      <td>board of intermediate education,ap</td>\n",
              "      <td>1141</td>\n",
              "      <td>2</td>\n",
              "      <td>B.Tech/B.E.</td>\n",
              "      <td>computer engineering</td>\n",
              "      <td>78.00</td>\n",
              "      <td>1141</td>\n",
              "      <td>0</td>\n",
              "      <td>Andhra Pradesh</td>\n",
              "      <td>2011</td>\n",
              "      <td>515</td>\n",
              "      <td>585</td>\n",
              "      <td>525</td>\n",
              "      <td>0.635979</td>\n",
              "      <td>445</td>\n",
              "      <td>-1</td>\n",
              "      <td>-1</td>\n",
              "      <td>-1</td>\n",
              "      <td>-1</td>\n",
              "      <td>-1</td>\n",
              "      <td>-1</td>\n",
              "      <td>0.9737</td>\n",
              "      <td>0.8128</td>\n",
              "      <td>0.5269</td>\n",
              "      <td>1.35490</td>\n",
              "      <td>-0.4455</td>\n",
              "    </tr>\n",
              "    <tr>\n",
              "      <th>1</th>\n",
              "      <td>train</td>\n",
              "      <td>579905</td>\n",
              "      <td>500000</td>\n",
              "      <td>2013-09-01</td>\n",
              "      <td>present</td>\n",
              "      <td>assistant manager</td>\n",
              "      <td>Indore</td>\n",
              "      <td>m</td>\n",
              "      <td>1989-10-04</td>\n",
              "      <td>85.4</td>\n",
              "      <td>cbse</td>\n",
              "      <td>2007</td>\n",
              "      <td>85.0</td>\n",
              "      <td>cbse</td>\n",
              "      <td>5807</td>\n",
              "      <td>2</td>\n",
              "      <td>B.Tech/B.E.</td>\n",
              "      <td>electronics and communication engineering</td>\n",
              "      <td>70.06</td>\n",
              "      <td>5807</td>\n",
              "      <td>0</td>\n",
              "      <td>Madhya Pradesh</td>\n",
              "      <td>2012</td>\n",
              "      <td>695</td>\n",
              "      <td>610</td>\n",
              "      <td>780</td>\n",
              "      <td>0.960603</td>\n",
              "      <td>-1</td>\n",
              "      <td>466</td>\n",
              "      <td>-1</td>\n",
              "      <td>-1</td>\n",
              "      <td>-1</td>\n",
              "      <td>-1</td>\n",
              "      <td>-1</td>\n",
              "      <td>-0.7335</td>\n",
              "      <td>0.3789</td>\n",
              "      <td>1.2396</td>\n",
              "      <td>-0.10760</td>\n",
              "      <td>0.8637</td>\n",
              "    </tr>\n",
              "    <tr>\n",
              "      <th>2</th>\n",
              "      <td>train</td>\n",
              "      <td>810601</td>\n",
              "      <td>325000</td>\n",
              "      <td>2014-06-01</td>\n",
              "      <td>present</td>\n",
              "      <td>systems engineer</td>\n",
              "      <td>Chennai</td>\n",
              "      <td>f</td>\n",
              "      <td>1992-08-03</td>\n",
              "      <td>85.0</td>\n",
              "      <td>cbse</td>\n",
              "      <td>2010</td>\n",
              "      <td>68.2</td>\n",
              "      <td>cbse</td>\n",
              "      <td>64</td>\n",
              "      <td>2</td>\n",
              "      <td>B.Tech/B.E.</td>\n",
              "      <td>information technology</td>\n",
              "      <td>70.00</td>\n",
              "      <td>64</td>\n",
              "      <td>0</td>\n",
              "      <td>Uttar Pradesh</td>\n",
              "      <td>2014</td>\n",
              "      <td>615</td>\n",
              "      <td>545</td>\n",
              "      <td>370</td>\n",
              "      <td>0.450877</td>\n",
              "      <td>395</td>\n",
              "      <td>-1</td>\n",
              "      <td>-1</td>\n",
              "      <td>-1</td>\n",
              "      <td>-1</td>\n",
              "      <td>-1</td>\n",
              "      <td>-1</td>\n",
              "      <td>0.2718</td>\n",
              "      <td>1.7109</td>\n",
              "      <td>0.1637</td>\n",
              "      <td>-0.86820</td>\n",
              "      <td>0.6721</td>\n",
              "    </tr>\n",
              "    <tr>\n",
              "      <th>3</th>\n",
              "      <td>train</td>\n",
              "      <td>267447</td>\n",
              "      <td>1100000</td>\n",
              "      <td>2011-07-01</td>\n",
              "      <td>present</td>\n",
              "      <td>senior software engineer</td>\n",
              "      <td>Gurgaon</td>\n",
              "      <td>m</td>\n",
              "      <td>1989-12-05</td>\n",
              "      <td>85.6</td>\n",
              "      <td>cbse</td>\n",
              "      <td>2007</td>\n",
              "      <td>83.6</td>\n",
              "      <td>cbse</td>\n",
              "      <td>6920</td>\n",
              "      <td>1</td>\n",
              "      <td>B.Tech/B.E.</td>\n",
              "      <td>computer engineering</td>\n",
              "      <td>74.64</td>\n",
              "      <td>6920</td>\n",
              "      <td>1</td>\n",
              "      <td>Delhi</td>\n",
              "      <td>2011</td>\n",
              "      <td>635</td>\n",
              "      <td>585</td>\n",
              "      <td>625</td>\n",
              "      <td>0.974396</td>\n",
              "      <td>615</td>\n",
              "      <td>-1</td>\n",
              "      <td>-1</td>\n",
              "      <td>-1</td>\n",
              "      <td>-1</td>\n",
              "      <td>-1</td>\n",
              "      <td>-1</td>\n",
              "      <td>0.0464</td>\n",
              "      <td>0.3448</td>\n",
              "      <td>-0.3440</td>\n",
              "      <td>-0.40780</td>\n",
              "      <td>-0.9194</td>\n",
              "    </tr>\n",
              "    <tr>\n",
              "      <th>4</th>\n",
              "      <td>train</td>\n",
              "      <td>343523</td>\n",
              "      <td>200000</td>\n",
              "      <td>2014-03-01</td>\n",
              "      <td>2015-03-01 00:00:00</td>\n",
              "      <td>get</td>\n",
              "      <td>Manesar</td>\n",
              "      <td>m</td>\n",
              "      <td>1991-02-27</td>\n",
              "      <td>78.0</td>\n",
              "      <td>cbse</td>\n",
              "      <td>2008</td>\n",
              "      <td>76.8</td>\n",
              "      <td>cbse</td>\n",
              "      <td>11368</td>\n",
              "      <td>2</td>\n",
              "      <td>B.Tech/B.E.</td>\n",
              "      <td>electronics and communication engineering</td>\n",
              "      <td>73.90</td>\n",
              "      <td>11368</td>\n",
              "      <td>0</td>\n",
              "      <td>Uttar Pradesh</td>\n",
              "      <td>2012</td>\n",
              "      <td>545</td>\n",
              "      <td>625</td>\n",
              "      <td>465</td>\n",
              "      <td>0.124502</td>\n",
              "      <td>-1</td>\n",
              "      <td>233</td>\n",
              "      <td>-1</td>\n",
              "      <td>-1</td>\n",
              "      <td>-1</td>\n",
              "      <td>-1</td>\n",
              "      <td>-1</td>\n",
              "      <td>-0.8810</td>\n",
              "      <td>-0.2793</td>\n",
              "      <td>-1.0697</td>\n",
              "      <td>0.09163</td>\n",
              "      <td>-0.1295</td>\n",
              "    </tr>\n",
              "  </tbody>\n",
              "</table>\n",
              "</div>\n",
              "      <button class=\"colab-df-convert\" onclick=\"convertToInteractive('df-cf03bed0-8fa8-4299-8971-582db2c561ae')\"\n",
              "              title=\"Convert this dataframe to an interactive table.\"\n",
              "              style=\"display:none;\">\n",
              "        \n",
              "  <svg xmlns=\"http://www.w3.org/2000/svg\" height=\"24px\"viewBox=\"0 0 24 24\"\n",
              "       width=\"24px\">\n",
              "    <path d=\"M0 0h24v24H0V0z\" fill=\"none\"/>\n",
              "    <path d=\"M18.56 5.44l.94 2.06.94-2.06 2.06-.94-2.06-.94-.94-2.06-.94 2.06-2.06.94zm-11 1L8.5 8.5l.94-2.06 2.06-.94-2.06-.94L8.5 2.5l-.94 2.06-2.06.94zm10 10l.94 2.06.94-2.06 2.06-.94-2.06-.94-.94-2.06-.94 2.06-2.06.94z\"/><path d=\"M17.41 7.96l-1.37-1.37c-.4-.4-.92-.59-1.43-.59-.52 0-1.04.2-1.43.59L10.3 9.45l-7.72 7.72c-.78.78-.78 2.05 0 2.83L4 21.41c.39.39.9.59 1.41.59.51 0 1.02-.2 1.41-.59l7.78-7.78 2.81-2.81c.8-.78.8-2.07 0-2.86zM5.41 20L4 18.59l7.72-7.72 1.47 1.35L5.41 20z\"/>\n",
              "  </svg>\n",
              "      </button>\n",
              "      \n",
              "  <style>\n",
              "    .colab-df-container {\n",
              "      display:flex;\n",
              "      flex-wrap:wrap;\n",
              "      gap: 12px;\n",
              "    }\n",
              "\n",
              "    .colab-df-convert {\n",
              "      background-color: #E8F0FE;\n",
              "      border: none;\n",
              "      border-radius: 50%;\n",
              "      cursor: pointer;\n",
              "      display: none;\n",
              "      fill: #1967D2;\n",
              "      height: 32px;\n",
              "      padding: 0 0 0 0;\n",
              "      width: 32px;\n",
              "    }\n",
              "\n",
              "    .colab-df-convert:hover {\n",
              "      background-color: #E2EBFA;\n",
              "      box-shadow: 0px 1px 2px rgba(60, 64, 67, 0.3), 0px 1px 3px 1px rgba(60, 64, 67, 0.15);\n",
              "      fill: #174EA6;\n",
              "    }\n",
              "\n",
              "    [theme=dark] .colab-df-convert {\n",
              "      background-color: #3B4455;\n",
              "      fill: #D2E3FC;\n",
              "    }\n",
              "\n",
              "    [theme=dark] .colab-df-convert:hover {\n",
              "      background-color: #434B5C;\n",
              "      box-shadow: 0px 1px 3px 1px rgba(0, 0, 0, 0.15);\n",
              "      filter: drop-shadow(0px 1px 2px rgba(0, 0, 0, 0.3));\n",
              "      fill: #FFFFFF;\n",
              "    }\n",
              "  </style>\n",
              "\n",
              "      <script>\n",
              "        const buttonEl =\n",
              "          document.querySelector('#df-cf03bed0-8fa8-4299-8971-582db2c561ae button.colab-df-convert');\n",
              "        buttonEl.style.display =\n",
              "          google.colab.kernel.accessAllowed ? 'block' : 'none';\n",
              "\n",
              "        async function convertToInteractive(key) {\n",
              "          const element = document.querySelector('#df-cf03bed0-8fa8-4299-8971-582db2c561ae');\n",
              "          const dataTable =\n",
              "            await google.colab.kernel.invokeFunction('convertToInteractive',\n",
              "                                                     [key], {});\n",
              "          if (!dataTable) return;\n",
              "\n",
              "          const docLinkHtml = 'Like what you see? Visit the ' +\n",
              "            '<a target=\"_blank\" href=https://colab.research.google.com/notebooks/data_table.ipynb>data table notebook</a>'\n",
              "            + ' to learn more about interactive tables.';\n",
              "          element.innerHTML = '';\n",
              "          dataTable['output_type'] = 'display_data';\n",
              "          await google.colab.output.renderOutput(dataTable, element);\n",
              "          const docLink = document.createElement('div');\n",
              "          docLink.innerHTML = docLinkHtml;\n",
              "          element.appendChild(docLink);\n",
              "        }\n",
              "      </script>\n",
              "    </div>\n",
              "  </div>\n",
              "  "
            ],
            "text/plain": [
              "  Unnamed: 0      ID   Salary        DOJ                  DOL  \\\n",
              "0      train  203097   420000 2012-06-01              present   \n",
              "1      train  579905   500000 2013-09-01              present   \n",
              "2      train  810601   325000 2014-06-01              present   \n",
              "3      train  267447  1100000 2011-07-01              present   \n",
              "4      train  343523   200000 2014-03-01  2015-03-01 00:00:00   \n",
              "\n",
              "                Designation    JobCity Gender        DOB  10percentage  \\\n",
              "0   senior quality engineer  Bangalore      f 1990-02-19          84.3   \n",
              "1         assistant manager     Indore      m 1989-10-04          85.4   \n",
              "2          systems engineer    Chennai      f 1992-08-03          85.0   \n",
              "3  senior software engineer    Gurgaon      m 1989-12-05          85.6   \n",
              "4                       get    Manesar      m 1991-02-27          78.0   \n",
              "\n",
              "                          10board  12graduation  12percentage  \\\n",
              "0  board ofsecondary education,ap          2007          95.8   \n",
              "1                            cbse          2007          85.0   \n",
              "2                            cbse          2010          68.2   \n",
              "3                            cbse          2007          83.6   \n",
              "4                            cbse          2008          76.8   \n",
              "\n",
              "                              12board  CollegeID  CollegeTier       Degree  \\\n",
              "0  board of intermediate education,ap       1141            2  B.Tech/B.E.   \n",
              "1                                cbse       5807            2  B.Tech/B.E.   \n",
              "2                                cbse         64            2  B.Tech/B.E.   \n",
              "3                                cbse       6920            1  B.Tech/B.E.   \n",
              "4                                cbse      11368            2  B.Tech/B.E.   \n",
              "\n",
              "                              Specialization  collegeGPA  CollegeCityID  \\\n",
              "0                       computer engineering       78.00           1141   \n",
              "1  electronics and communication engineering       70.06           5807   \n",
              "2                     information technology       70.00             64   \n",
              "3                       computer engineering       74.64           6920   \n",
              "4  electronics and communication engineering       73.90          11368   \n",
              "\n",
              "   CollegeCityTier    CollegeState  GraduationYear  English  Logical  Quant  \\\n",
              "0                0  Andhra Pradesh            2011      515      585    525   \n",
              "1                0  Madhya Pradesh            2012      695      610    780   \n",
              "2                0   Uttar Pradesh            2014      615      545    370   \n",
              "3                1           Delhi            2011      635      585    625   \n",
              "4                0   Uttar Pradesh            2012      545      625    465   \n",
              "\n",
              "     Domain  ComputerProgramming  ElectronicsAndSemicon  ComputerScience  \\\n",
              "0  0.635979                  445                     -1               -1   \n",
              "1  0.960603                   -1                    466               -1   \n",
              "2  0.450877                  395                     -1               -1   \n",
              "3  0.974396                  615                     -1               -1   \n",
              "4  0.124502                   -1                    233               -1   \n",
              "\n",
              "   MechanicalEngg  ElectricalEngg  TelecomEngg  CivilEngg  conscientiousness  \\\n",
              "0              -1              -1           -1         -1             0.9737   \n",
              "1              -1              -1           -1         -1            -0.7335   \n",
              "2              -1              -1           -1         -1             0.2718   \n",
              "3              -1              -1           -1         -1             0.0464   \n",
              "4              -1              -1           -1         -1            -0.8810   \n",
              "\n",
              "   agreeableness  extraversion  nueroticism  openess_to_experience  \n",
              "0         0.8128        0.5269      1.35490                -0.4455  \n",
              "1         0.3789        1.2396     -0.10760                 0.8637  \n",
              "2         1.7109        0.1637     -0.86820                 0.6721  \n",
              "3         0.3448       -0.3440     -0.40780                -0.9194  \n",
              "4        -0.2793       -1.0697      0.09163                -0.1295  "
            ]
          },
          "execution_count": 7,
          "metadata": {},
          "output_type": "execute_result"
        }
      ],
      "source": [
        "df.head()"
      ]
    },
    {
      "cell_type": "code",
      "execution_count": null,
      "metadata": {
        "id": "-wX9BhTibUws"
      },
      "outputs": [],
      "source": [
        "df = df.rename(columns = {\"10percentage\":\"Class10_percentage\"})\n",
        "df = df.rename(columns = {\"12percentage\":\"Class12_percentage\"})\n",
        "df = df.rename(columns = {\"12graduation\":\"Class12_Passout\"})"
      ]
    },
    {
      "cell_type": "code",
      "execution_count": null,
      "metadata": {
        "colab": {
          "base_uri": "https://localhost:8080/"
        },
        "id": "o4Q7lP1cbXKH",
        "outputId": "0339131f-ebed-4226-a559-7714bba3b315"
      },
      "outputs": [
        {
          "name": "stdout",
          "output_type": "stream",
          "text": [
            "Dataset having 3998 rows and 38 columns\n"
          ]
        }
      ],
      "source": [
        "shape = df.shape\n",
        "print(f'Dataset having {shape[0]} rows and {shape[1]} columns')\n",
        "# print(f'Dataset having {shape[1]} columns')"
      ]
    },
    {
      "cell_type": "code",
      "execution_count": null,
      "metadata": {
        "colab": {
          "base_uri": "https://localhost:8080/",
          "height": 364
        },
        "id": "mkDMxpR4beOW",
        "outputId": "e6c536b2-77df-4d7d-cb48-fb2e26d98634"
      },
      "outputs": [
        {
          "data": {
            "text/html": [
              "\n",
              "  <div id=\"df-bc1607cc-d4f3-445f-97ab-61d3a62b5af5\">\n",
              "    <div class=\"colab-df-container\">\n",
              "      <div>\n",
              "<style scoped>\n",
              "    .dataframe tbody tr th:only-of-type {\n",
              "        vertical-align: middle;\n",
              "    }\n",
              "\n",
              "    .dataframe tbody tr th {\n",
              "        vertical-align: top;\n",
              "    }\n",
              "\n",
              "    .dataframe thead th {\n",
              "        text-align: right;\n",
              "    }\n",
              "</style>\n",
              "<table border=\"1\" class=\"dataframe\">\n",
              "  <thead>\n",
              "    <tr style=\"text-align: right;\">\n",
              "      <th></th>\n",
              "      <th>ID</th>\n",
              "      <th>Salary</th>\n",
              "      <th>Class10_percentage</th>\n",
              "      <th>Class12_Passout</th>\n",
              "      <th>Class12_percentage</th>\n",
              "      <th>CollegeID</th>\n",
              "      <th>CollegeTier</th>\n",
              "      <th>collegeGPA</th>\n",
              "      <th>CollegeCityID</th>\n",
              "      <th>CollegeCityTier</th>\n",
              "      <th>GraduationYear</th>\n",
              "      <th>English</th>\n",
              "      <th>Logical</th>\n",
              "      <th>Quant</th>\n",
              "      <th>Domain</th>\n",
              "      <th>ComputerProgramming</th>\n",
              "      <th>ElectronicsAndSemicon</th>\n",
              "      <th>ComputerScience</th>\n",
              "      <th>MechanicalEngg</th>\n",
              "      <th>ElectricalEngg</th>\n",
              "      <th>TelecomEngg</th>\n",
              "      <th>CivilEngg</th>\n",
              "      <th>conscientiousness</th>\n",
              "      <th>agreeableness</th>\n",
              "      <th>extraversion</th>\n",
              "      <th>nueroticism</th>\n",
              "      <th>openess_to_experience</th>\n",
              "    </tr>\n",
              "  </thead>\n",
              "  <tbody>\n",
              "    <tr>\n",
              "      <th>count</th>\n",
              "      <td>3998.0</td>\n",
              "      <td>3998.0</td>\n",
              "      <td>3998.0</td>\n",
              "      <td>3998.0</td>\n",
              "      <td>3998.0</td>\n",
              "      <td>3998.0</td>\n",
              "      <td>3998.0</td>\n",
              "      <td>3998.0</td>\n",
              "      <td>3998.0</td>\n",
              "      <td>3998.0</td>\n",
              "      <td>3998.0</td>\n",
              "      <td>3998.0</td>\n",
              "      <td>3998.0</td>\n",
              "      <td>3998.0</td>\n",
              "      <td>3998.0</td>\n",
              "      <td>3998.0</td>\n",
              "      <td>3998.0</td>\n",
              "      <td>3998.0</td>\n",
              "      <td>3998.0</td>\n",
              "      <td>3998.0</td>\n",
              "      <td>3998.0</td>\n",
              "      <td>3998.0</td>\n",
              "      <td>3998.0</td>\n",
              "      <td>3998.0</td>\n",
              "      <td>3998.0</td>\n",
              "      <td>3998.0</td>\n",
              "      <td>3998.0</td>\n",
              "    </tr>\n",
              "    <tr>\n",
              "      <th>mean</th>\n",
              "      <td>663795.0</td>\n",
              "      <td>307700.0</td>\n",
              "      <td>78.0</td>\n",
              "      <td>2008.0</td>\n",
              "      <td>74.0</td>\n",
              "      <td>5157.0</td>\n",
              "      <td>2.0</td>\n",
              "      <td>71.0</td>\n",
              "      <td>5157.0</td>\n",
              "      <td>0.0</td>\n",
              "      <td>2012.0</td>\n",
              "      <td>502.0</td>\n",
              "      <td>502.0</td>\n",
              "      <td>513.0</td>\n",
              "      <td>1.0</td>\n",
              "      <td>353.0</td>\n",
              "      <td>95.0</td>\n",
              "      <td>91.0</td>\n",
              "      <td>23.0</td>\n",
              "      <td>16.0</td>\n",
              "      <td>32.0</td>\n",
              "      <td>3.0</td>\n",
              "      <td>-0.0</td>\n",
              "      <td>0.0</td>\n",
              "      <td>0.0</td>\n",
              "      <td>-0.0</td>\n",
              "      <td>-0.0</td>\n",
              "    </tr>\n",
              "    <tr>\n",
              "      <th>std</th>\n",
              "      <td>363218.0</td>\n",
              "      <td>212737.0</td>\n",
              "      <td>10.0</td>\n",
              "      <td>2.0</td>\n",
              "      <td>11.0</td>\n",
              "      <td>4802.0</td>\n",
              "      <td>0.0</td>\n",
              "      <td>8.0</td>\n",
              "      <td>4802.0</td>\n",
              "      <td>0.0</td>\n",
              "      <td>32.0</td>\n",
              "      <td>105.0</td>\n",
              "      <td>87.0</td>\n",
              "      <td>122.0</td>\n",
              "      <td>0.0</td>\n",
              "      <td>205.0</td>\n",
              "      <td>158.0</td>\n",
              "      <td>175.0</td>\n",
              "      <td>98.0</td>\n",
              "      <td>88.0</td>\n",
              "      <td>105.0</td>\n",
              "      <td>37.0</td>\n",
              "      <td>1.0</td>\n",
              "      <td>1.0</td>\n",
              "      <td>1.0</td>\n",
              "      <td>1.0</td>\n",
              "      <td>1.0</td>\n",
              "    </tr>\n",
              "    <tr>\n",
              "      <th>min</th>\n",
              "      <td>11244.0</td>\n",
              "      <td>35000.0</td>\n",
              "      <td>43.0</td>\n",
              "      <td>1995.0</td>\n",
              "      <td>40.0</td>\n",
              "      <td>2.0</td>\n",
              "      <td>1.0</td>\n",
              "      <td>6.0</td>\n",
              "      <td>2.0</td>\n",
              "      <td>0.0</td>\n",
              "      <td>0.0</td>\n",
              "      <td>180.0</td>\n",
              "      <td>195.0</td>\n",
              "      <td>120.0</td>\n",
              "      <td>-1.0</td>\n",
              "      <td>-1.0</td>\n",
              "      <td>-1.0</td>\n",
              "      <td>-1.0</td>\n",
              "      <td>-1.0</td>\n",
              "      <td>-1.0</td>\n",
              "      <td>-1.0</td>\n",
              "      <td>-1.0</td>\n",
              "      <td>-4.0</td>\n",
              "      <td>-6.0</td>\n",
              "      <td>-5.0</td>\n",
              "      <td>-3.0</td>\n",
              "      <td>-7.0</td>\n",
              "    </tr>\n",
              "    <tr>\n",
              "      <th>25%</th>\n",
              "      <td>334284.0</td>\n",
              "      <td>180000.0</td>\n",
              "      <td>72.0</td>\n",
              "      <td>2007.0</td>\n",
              "      <td>66.0</td>\n",
              "      <td>494.0</td>\n",
              "      <td>2.0</td>\n",
              "      <td>66.0</td>\n",
              "      <td>494.0</td>\n",
              "      <td>0.0</td>\n",
              "      <td>2012.0</td>\n",
              "      <td>425.0</td>\n",
              "      <td>445.0</td>\n",
              "      <td>430.0</td>\n",
              "      <td>0.0</td>\n",
              "      <td>295.0</td>\n",
              "      <td>-1.0</td>\n",
              "      <td>-1.0</td>\n",
              "      <td>-1.0</td>\n",
              "      <td>-1.0</td>\n",
              "      <td>-1.0</td>\n",
              "      <td>-1.0</td>\n",
              "      <td>-1.0</td>\n",
              "      <td>-0.0</td>\n",
              "      <td>-1.0</td>\n",
              "      <td>-1.0</td>\n",
              "      <td>-1.0</td>\n",
              "    </tr>\n",
              "    <tr>\n",
              "      <th>50%</th>\n",
              "      <td>639600.0</td>\n",
              "      <td>300000.0</td>\n",
              "      <td>79.0</td>\n",
              "      <td>2008.0</td>\n",
              "      <td>74.0</td>\n",
              "      <td>3879.0</td>\n",
              "      <td>2.0</td>\n",
              "      <td>72.0</td>\n",
              "      <td>3879.0</td>\n",
              "      <td>0.0</td>\n",
              "      <td>2013.0</td>\n",
              "      <td>500.0</td>\n",
              "      <td>505.0</td>\n",
              "      <td>515.0</td>\n",
              "      <td>1.0</td>\n",
              "      <td>415.0</td>\n",
              "      <td>-1.0</td>\n",
              "      <td>-1.0</td>\n",
              "      <td>-1.0</td>\n",
              "      <td>-1.0</td>\n",
              "      <td>-1.0</td>\n",
              "      <td>-1.0</td>\n",
              "      <td>0.0</td>\n",
              "      <td>0.0</td>\n",
              "      <td>0.0</td>\n",
              "      <td>-0.0</td>\n",
              "      <td>-0.0</td>\n",
              "    </tr>\n",
              "    <tr>\n",
              "      <th>75%</th>\n",
              "      <td>990480.0</td>\n",
              "      <td>370000.0</td>\n",
              "      <td>86.0</td>\n",
              "      <td>2009.0</td>\n",
              "      <td>83.0</td>\n",
              "      <td>8818.0</td>\n",
              "      <td>2.0</td>\n",
              "      <td>76.0</td>\n",
              "      <td>8818.0</td>\n",
              "      <td>1.0</td>\n",
              "      <td>2014.0</td>\n",
              "      <td>570.0</td>\n",
              "      <td>565.0</td>\n",
              "      <td>595.0</td>\n",
              "      <td>1.0</td>\n",
              "      <td>495.0</td>\n",
              "      <td>233.0</td>\n",
              "      <td>-1.0</td>\n",
              "      <td>-1.0</td>\n",
              "      <td>-1.0</td>\n",
              "      <td>-1.0</td>\n",
              "      <td>-1.0</td>\n",
              "      <td>1.0</td>\n",
              "      <td>1.0</td>\n",
              "      <td>1.0</td>\n",
              "      <td>1.0</td>\n",
              "      <td>1.0</td>\n",
              "    </tr>\n",
              "    <tr>\n",
              "      <th>max</th>\n",
              "      <td>1298275.0</td>\n",
              "      <td>4000000.0</td>\n",
              "      <td>98.0</td>\n",
              "      <td>2013.0</td>\n",
              "      <td>99.0</td>\n",
              "      <td>18409.0</td>\n",
              "      <td>2.0</td>\n",
              "      <td>100.0</td>\n",
              "      <td>18409.0</td>\n",
              "      <td>1.0</td>\n",
              "      <td>2017.0</td>\n",
              "      <td>875.0</td>\n",
              "      <td>795.0</td>\n",
              "      <td>900.0</td>\n",
              "      <td>1.0</td>\n",
              "      <td>840.0</td>\n",
              "      <td>612.0</td>\n",
              "      <td>715.0</td>\n",
              "      <td>623.0</td>\n",
              "      <td>676.0</td>\n",
              "      <td>548.0</td>\n",
              "      <td>516.0</td>\n",
              "      <td>2.0</td>\n",
              "      <td>2.0</td>\n",
              "      <td>3.0</td>\n",
              "      <td>3.0</td>\n",
              "      <td>2.0</td>\n",
              "    </tr>\n",
              "  </tbody>\n",
              "</table>\n",
              "</div>\n",
              "      <button class=\"colab-df-convert\" onclick=\"convertToInteractive('df-bc1607cc-d4f3-445f-97ab-61d3a62b5af5')\"\n",
              "              title=\"Convert this dataframe to an interactive table.\"\n",
              "              style=\"display:none;\">\n",
              "        \n",
              "  <svg xmlns=\"http://www.w3.org/2000/svg\" height=\"24px\"viewBox=\"0 0 24 24\"\n",
              "       width=\"24px\">\n",
              "    <path d=\"M0 0h24v24H0V0z\" fill=\"none\"/>\n",
              "    <path d=\"M18.56 5.44l.94 2.06.94-2.06 2.06-.94-2.06-.94-.94-2.06-.94 2.06-2.06.94zm-11 1L8.5 8.5l.94-2.06 2.06-.94-2.06-.94L8.5 2.5l-.94 2.06-2.06.94zm10 10l.94 2.06.94-2.06 2.06-.94-2.06-.94-.94-2.06-.94 2.06-2.06.94z\"/><path d=\"M17.41 7.96l-1.37-1.37c-.4-.4-.92-.59-1.43-.59-.52 0-1.04.2-1.43.59L10.3 9.45l-7.72 7.72c-.78.78-.78 2.05 0 2.83L4 21.41c.39.39.9.59 1.41.59.51 0 1.02-.2 1.41-.59l7.78-7.78 2.81-2.81c.8-.78.8-2.07 0-2.86zM5.41 20L4 18.59l7.72-7.72 1.47 1.35L5.41 20z\"/>\n",
              "  </svg>\n",
              "      </button>\n",
              "      \n",
              "  <style>\n",
              "    .colab-df-container {\n",
              "      display:flex;\n",
              "      flex-wrap:wrap;\n",
              "      gap: 12px;\n",
              "    }\n",
              "\n",
              "    .colab-df-convert {\n",
              "      background-color: #E8F0FE;\n",
              "      border: none;\n",
              "      border-radius: 50%;\n",
              "      cursor: pointer;\n",
              "      display: none;\n",
              "      fill: #1967D2;\n",
              "      height: 32px;\n",
              "      padding: 0 0 0 0;\n",
              "      width: 32px;\n",
              "    }\n",
              "\n",
              "    .colab-df-convert:hover {\n",
              "      background-color: #E2EBFA;\n",
              "      box-shadow: 0px 1px 2px rgba(60, 64, 67, 0.3), 0px 1px 3px 1px rgba(60, 64, 67, 0.15);\n",
              "      fill: #174EA6;\n",
              "    }\n",
              "\n",
              "    [theme=dark] .colab-df-convert {\n",
              "      background-color: #3B4455;\n",
              "      fill: #D2E3FC;\n",
              "    }\n",
              "\n",
              "    [theme=dark] .colab-df-convert:hover {\n",
              "      background-color: #434B5C;\n",
              "      box-shadow: 0px 1px 3px 1px rgba(0, 0, 0, 0.15);\n",
              "      filter: drop-shadow(0px 1px 2px rgba(0, 0, 0, 0.3));\n",
              "      fill: #FFFFFF;\n",
              "    }\n",
              "  </style>\n",
              "\n",
              "      <script>\n",
              "        const buttonEl =\n",
              "          document.querySelector('#df-bc1607cc-d4f3-445f-97ab-61d3a62b5af5 button.colab-df-convert');\n",
              "        buttonEl.style.display =\n",
              "          google.colab.kernel.accessAllowed ? 'block' : 'none';\n",
              "\n",
              "        async function convertToInteractive(key) {\n",
              "          const element = document.querySelector('#df-bc1607cc-d4f3-445f-97ab-61d3a62b5af5');\n",
              "          const dataTable =\n",
              "            await google.colab.kernel.invokeFunction('convertToInteractive',\n",
              "                                                     [key], {});\n",
              "          if (!dataTable) return;\n",
              "\n",
              "          const docLinkHtml = 'Like what you see? Visit the ' +\n",
              "            '<a target=\"_blank\" href=https://colab.research.google.com/notebooks/data_table.ipynb>data table notebook</a>'\n",
              "            + ' to learn more about interactive tables.';\n",
              "          element.innerHTML = '';\n",
              "          dataTable['output_type'] = 'display_data';\n",
              "          await google.colab.output.renderOutput(dataTable, element);\n",
              "          const docLink = document.createElement('div');\n",
              "          docLink.innerHTML = docLinkHtml;\n",
              "          element.appendChild(docLink);\n",
              "        }\n",
              "      </script>\n",
              "    </div>\n",
              "  </div>\n",
              "  "
            ],
            "text/plain": [
              "              ID     Salary  Class10_percentage  Class12_Passout  \\\n",
              "count     3998.0     3998.0              3998.0           3998.0   \n",
              "mean    663795.0   307700.0                78.0           2008.0   \n",
              "std     363218.0   212737.0                10.0              2.0   \n",
              "min      11244.0    35000.0                43.0           1995.0   \n",
              "25%     334284.0   180000.0                72.0           2007.0   \n",
              "50%     639600.0   300000.0                79.0           2008.0   \n",
              "75%     990480.0   370000.0                86.0           2009.0   \n",
              "max    1298275.0  4000000.0                98.0           2013.0   \n",
              "\n",
              "       Class12_percentage  CollegeID  CollegeTier  collegeGPA  CollegeCityID  \\\n",
              "count              3998.0     3998.0       3998.0      3998.0         3998.0   \n",
              "mean                 74.0     5157.0          2.0        71.0         5157.0   \n",
              "std                  11.0     4802.0          0.0         8.0         4802.0   \n",
              "min                  40.0        2.0          1.0         6.0            2.0   \n",
              "25%                  66.0      494.0          2.0        66.0          494.0   \n",
              "50%                  74.0     3879.0          2.0        72.0         3879.0   \n",
              "75%                  83.0     8818.0          2.0        76.0         8818.0   \n",
              "max                  99.0    18409.0          2.0       100.0        18409.0   \n",
              "\n",
              "       CollegeCityTier  GraduationYear  English  Logical   Quant  Domain  \\\n",
              "count           3998.0          3998.0   3998.0   3998.0  3998.0  3998.0   \n",
              "mean               0.0          2012.0    502.0    502.0   513.0     1.0   \n",
              "std                0.0            32.0    105.0     87.0   122.0     0.0   \n",
              "min                0.0             0.0    180.0    195.0   120.0    -1.0   \n",
              "25%                0.0          2012.0    425.0    445.0   430.0     0.0   \n",
              "50%                0.0          2013.0    500.0    505.0   515.0     1.0   \n",
              "75%                1.0          2014.0    570.0    565.0   595.0     1.0   \n",
              "max                1.0          2017.0    875.0    795.0   900.0     1.0   \n",
              "\n",
              "       ComputerProgramming  ElectronicsAndSemicon  ComputerScience  \\\n",
              "count               3998.0                 3998.0           3998.0   \n",
              "mean                 353.0                   95.0             91.0   \n",
              "std                  205.0                  158.0            175.0   \n",
              "min                   -1.0                   -1.0             -1.0   \n",
              "25%                  295.0                   -1.0             -1.0   \n",
              "50%                  415.0                   -1.0             -1.0   \n",
              "75%                  495.0                  233.0             -1.0   \n",
              "max                  840.0                  612.0            715.0   \n",
              "\n",
              "       MechanicalEngg  ElectricalEngg  TelecomEngg  CivilEngg  \\\n",
              "count          3998.0          3998.0       3998.0     3998.0   \n",
              "mean             23.0            16.0         32.0        3.0   \n",
              "std              98.0            88.0        105.0       37.0   \n",
              "min              -1.0            -1.0         -1.0       -1.0   \n",
              "25%              -1.0            -1.0         -1.0       -1.0   \n",
              "50%              -1.0            -1.0         -1.0       -1.0   \n",
              "75%              -1.0            -1.0         -1.0       -1.0   \n",
              "max             623.0           676.0        548.0      516.0   \n",
              "\n",
              "       conscientiousness  agreeableness  extraversion  nueroticism  \\\n",
              "count             3998.0         3998.0        3998.0       3998.0   \n",
              "mean                -0.0            0.0           0.0         -0.0   \n",
              "std                  1.0            1.0           1.0          1.0   \n",
              "min                 -4.0           -6.0          -5.0         -3.0   \n",
              "25%                 -1.0           -0.0          -1.0         -1.0   \n",
              "50%                  0.0            0.0           0.0         -0.0   \n",
              "75%                  1.0            1.0           1.0          1.0   \n",
              "max                  2.0            2.0           3.0          3.0   \n",
              "\n",
              "       openess_to_experience  \n",
              "count                 3998.0  \n",
              "mean                    -0.0  \n",
              "std                      1.0  \n",
              "min                     -7.0  \n",
              "25%                     -1.0  \n",
              "50%                     -0.0  \n",
              "75%                      1.0  \n",
              "max                      2.0  "
            ]
          },
          "execution_count": 12,
          "metadata": {},
          "output_type": "execute_result"
        }
      ],
      "source": [
        "np.round(df.describe())"
      ]
    },
    {
      "cell_type": "code",
      "execution_count": null,
      "metadata": {
        "colab": {
          "base_uri": "https://localhost:8080/",
          "height": 896
        },
        "id": "21rv0L1abZeD",
        "outputId": "63cff03a-e69b-43b1-9373-84d80a6d712f"
      },
      "outputs": [
        {
          "data": {
            "text/html": [
              "\n",
              "  <div id=\"df-cf0e2c61-898d-464d-a52e-70b7967c8ad0\">\n",
              "    <div class=\"colab-df-container\">\n",
              "      <div>\n",
              "<style scoped>\n",
              "    .dataframe tbody tr th:only-of-type {\n",
              "        vertical-align: middle;\n",
              "    }\n",
              "\n",
              "    .dataframe tbody tr th {\n",
              "        vertical-align: top;\n",
              "    }\n",
              "\n",
              "    .dataframe thead th {\n",
              "        text-align: right;\n",
              "    }\n",
              "</style>\n",
              "<table border=\"1\" class=\"dataframe\">\n",
              "  <thead>\n",
              "    <tr style=\"text-align: right;\">\n",
              "      <th></th>\n",
              "      <th>count</th>\n",
              "      <th>mean</th>\n",
              "      <th>std</th>\n",
              "      <th>min</th>\n",
              "      <th>25%</th>\n",
              "      <th>50%</th>\n",
              "      <th>75%</th>\n",
              "      <th>max</th>\n",
              "    </tr>\n",
              "  </thead>\n",
              "  <tbody>\n",
              "    <tr>\n",
              "      <th>ID</th>\n",
              "      <td>3998.0</td>\n",
              "      <td>663795.0</td>\n",
              "      <td>363218.0</td>\n",
              "      <td>11244.0</td>\n",
              "      <td>334284.0</td>\n",
              "      <td>639600.0</td>\n",
              "      <td>990480.0</td>\n",
              "      <td>1298275.0</td>\n",
              "    </tr>\n",
              "    <tr>\n",
              "      <th>Salary</th>\n",
              "      <td>3998.0</td>\n",
              "      <td>307700.0</td>\n",
              "      <td>212737.0</td>\n",
              "      <td>35000.0</td>\n",
              "      <td>180000.0</td>\n",
              "      <td>300000.0</td>\n",
              "      <td>370000.0</td>\n",
              "      <td>4000000.0</td>\n",
              "    </tr>\n",
              "    <tr>\n",
              "      <th>Class10_percentage</th>\n",
              "      <td>3998.0</td>\n",
              "      <td>78.0</td>\n",
              "      <td>10.0</td>\n",
              "      <td>43.0</td>\n",
              "      <td>72.0</td>\n",
              "      <td>79.0</td>\n",
              "      <td>86.0</td>\n",
              "      <td>98.0</td>\n",
              "    </tr>\n",
              "    <tr>\n",
              "      <th>Class12_Passout</th>\n",
              "      <td>3998.0</td>\n",
              "      <td>2008.0</td>\n",
              "      <td>2.0</td>\n",
              "      <td>1995.0</td>\n",
              "      <td>2007.0</td>\n",
              "      <td>2008.0</td>\n",
              "      <td>2009.0</td>\n",
              "      <td>2013.0</td>\n",
              "    </tr>\n",
              "    <tr>\n",
              "      <th>Class12_percentage</th>\n",
              "      <td>3998.0</td>\n",
              "      <td>74.0</td>\n",
              "      <td>11.0</td>\n",
              "      <td>40.0</td>\n",
              "      <td>66.0</td>\n",
              "      <td>74.0</td>\n",
              "      <td>83.0</td>\n",
              "      <td>99.0</td>\n",
              "    </tr>\n",
              "    <tr>\n",
              "      <th>CollegeID</th>\n",
              "      <td>3998.0</td>\n",
              "      <td>5157.0</td>\n",
              "      <td>4802.0</td>\n",
              "      <td>2.0</td>\n",
              "      <td>494.0</td>\n",
              "      <td>3879.0</td>\n",
              "      <td>8818.0</td>\n",
              "      <td>18409.0</td>\n",
              "    </tr>\n",
              "    <tr>\n",
              "      <th>CollegeTier</th>\n",
              "      <td>3998.0</td>\n",
              "      <td>2.0</td>\n",
              "      <td>0.0</td>\n",
              "      <td>1.0</td>\n",
              "      <td>2.0</td>\n",
              "      <td>2.0</td>\n",
              "      <td>2.0</td>\n",
              "      <td>2.0</td>\n",
              "    </tr>\n",
              "    <tr>\n",
              "      <th>collegeGPA</th>\n",
              "      <td>3998.0</td>\n",
              "      <td>71.0</td>\n",
              "      <td>8.0</td>\n",
              "      <td>6.0</td>\n",
              "      <td>66.0</td>\n",
              "      <td>72.0</td>\n",
              "      <td>76.0</td>\n",
              "      <td>100.0</td>\n",
              "    </tr>\n",
              "    <tr>\n",
              "      <th>CollegeCityID</th>\n",
              "      <td>3998.0</td>\n",
              "      <td>5157.0</td>\n",
              "      <td>4802.0</td>\n",
              "      <td>2.0</td>\n",
              "      <td>494.0</td>\n",
              "      <td>3879.0</td>\n",
              "      <td>8818.0</td>\n",
              "      <td>18409.0</td>\n",
              "    </tr>\n",
              "    <tr>\n",
              "      <th>CollegeCityTier</th>\n",
              "      <td>3998.0</td>\n",
              "      <td>0.0</td>\n",
              "      <td>0.0</td>\n",
              "      <td>0.0</td>\n",
              "      <td>0.0</td>\n",
              "      <td>0.0</td>\n",
              "      <td>1.0</td>\n",
              "      <td>1.0</td>\n",
              "    </tr>\n",
              "    <tr>\n",
              "      <th>GraduationYear</th>\n",
              "      <td>3998.0</td>\n",
              "      <td>2012.0</td>\n",
              "      <td>32.0</td>\n",
              "      <td>0.0</td>\n",
              "      <td>2012.0</td>\n",
              "      <td>2013.0</td>\n",
              "      <td>2014.0</td>\n",
              "      <td>2017.0</td>\n",
              "    </tr>\n",
              "    <tr>\n",
              "      <th>English</th>\n",
              "      <td>3998.0</td>\n",
              "      <td>502.0</td>\n",
              "      <td>105.0</td>\n",
              "      <td>180.0</td>\n",
              "      <td>425.0</td>\n",
              "      <td>500.0</td>\n",
              "      <td>570.0</td>\n",
              "      <td>875.0</td>\n",
              "    </tr>\n",
              "    <tr>\n",
              "      <th>Logical</th>\n",
              "      <td>3998.0</td>\n",
              "      <td>502.0</td>\n",
              "      <td>87.0</td>\n",
              "      <td>195.0</td>\n",
              "      <td>445.0</td>\n",
              "      <td>505.0</td>\n",
              "      <td>565.0</td>\n",
              "      <td>795.0</td>\n",
              "    </tr>\n",
              "    <tr>\n",
              "      <th>Quant</th>\n",
              "      <td>3998.0</td>\n",
              "      <td>513.0</td>\n",
              "      <td>122.0</td>\n",
              "      <td>120.0</td>\n",
              "      <td>430.0</td>\n",
              "      <td>515.0</td>\n",
              "      <td>595.0</td>\n",
              "      <td>900.0</td>\n",
              "    </tr>\n",
              "    <tr>\n",
              "      <th>Domain</th>\n",
              "      <td>3998.0</td>\n",
              "      <td>1.0</td>\n",
              "      <td>0.0</td>\n",
              "      <td>-1.0</td>\n",
              "      <td>0.0</td>\n",
              "      <td>1.0</td>\n",
              "      <td>1.0</td>\n",
              "      <td>1.0</td>\n",
              "    </tr>\n",
              "    <tr>\n",
              "      <th>ComputerProgramming</th>\n",
              "      <td>3998.0</td>\n",
              "      <td>353.0</td>\n",
              "      <td>205.0</td>\n",
              "      <td>-1.0</td>\n",
              "      <td>295.0</td>\n",
              "      <td>415.0</td>\n",
              "      <td>495.0</td>\n",
              "      <td>840.0</td>\n",
              "    </tr>\n",
              "    <tr>\n",
              "      <th>ElectronicsAndSemicon</th>\n",
              "      <td>3998.0</td>\n",
              "      <td>95.0</td>\n",
              "      <td>158.0</td>\n",
              "      <td>-1.0</td>\n",
              "      <td>-1.0</td>\n",
              "      <td>-1.0</td>\n",
              "      <td>233.0</td>\n",
              "      <td>612.0</td>\n",
              "    </tr>\n",
              "    <tr>\n",
              "      <th>ComputerScience</th>\n",
              "      <td>3998.0</td>\n",
              "      <td>91.0</td>\n",
              "      <td>175.0</td>\n",
              "      <td>-1.0</td>\n",
              "      <td>-1.0</td>\n",
              "      <td>-1.0</td>\n",
              "      <td>-1.0</td>\n",
              "      <td>715.0</td>\n",
              "    </tr>\n",
              "    <tr>\n",
              "      <th>MechanicalEngg</th>\n",
              "      <td>3998.0</td>\n",
              "      <td>23.0</td>\n",
              "      <td>98.0</td>\n",
              "      <td>-1.0</td>\n",
              "      <td>-1.0</td>\n",
              "      <td>-1.0</td>\n",
              "      <td>-1.0</td>\n",
              "      <td>623.0</td>\n",
              "    </tr>\n",
              "    <tr>\n",
              "      <th>ElectricalEngg</th>\n",
              "      <td>3998.0</td>\n",
              "      <td>16.0</td>\n",
              "      <td>88.0</td>\n",
              "      <td>-1.0</td>\n",
              "      <td>-1.0</td>\n",
              "      <td>-1.0</td>\n",
              "      <td>-1.0</td>\n",
              "      <td>676.0</td>\n",
              "    </tr>\n",
              "    <tr>\n",
              "      <th>TelecomEngg</th>\n",
              "      <td>3998.0</td>\n",
              "      <td>32.0</td>\n",
              "      <td>105.0</td>\n",
              "      <td>-1.0</td>\n",
              "      <td>-1.0</td>\n",
              "      <td>-1.0</td>\n",
              "      <td>-1.0</td>\n",
              "      <td>548.0</td>\n",
              "    </tr>\n",
              "    <tr>\n",
              "      <th>CivilEngg</th>\n",
              "      <td>3998.0</td>\n",
              "      <td>3.0</td>\n",
              "      <td>37.0</td>\n",
              "      <td>-1.0</td>\n",
              "      <td>-1.0</td>\n",
              "      <td>-1.0</td>\n",
              "      <td>-1.0</td>\n",
              "      <td>516.0</td>\n",
              "    </tr>\n",
              "    <tr>\n",
              "      <th>conscientiousness</th>\n",
              "      <td>3998.0</td>\n",
              "      <td>-0.0</td>\n",
              "      <td>1.0</td>\n",
              "      <td>-4.0</td>\n",
              "      <td>-1.0</td>\n",
              "      <td>0.0</td>\n",
              "      <td>1.0</td>\n",
              "      <td>2.0</td>\n",
              "    </tr>\n",
              "    <tr>\n",
              "      <th>agreeableness</th>\n",
              "      <td>3998.0</td>\n",
              "      <td>0.0</td>\n",
              "      <td>1.0</td>\n",
              "      <td>-6.0</td>\n",
              "      <td>-0.0</td>\n",
              "      <td>0.0</td>\n",
              "      <td>1.0</td>\n",
              "      <td>2.0</td>\n",
              "    </tr>\n",
              "    <tr>\n",
              "      <th>extraversion</th>\n",
              "      <td>3998.0</td>\n",
              "      <td>0.0</td>\n",
              "      <td>1.0</td>\n",
              "      <td>-5.0</td>\n",
              "      <td>-1.0</td>\n",
              "      <td>0.0</td>\n",
              "      <td>1.0</td>\n",
              "      <td>3.0</td>\n",
              "    </tr>\n",
              "    <tr>\n",
              "      <th>nueroticism</th>\n",
              "      <td>3998.0</td>\n",
              "      <td>-0.0</td>\n",
              "      <td>1.0</td>\n",
              "      <td>-3.0</td>\n",
              "      <td>-1.0</td>\n",
              "      <td>-0.0</td>\n",
              "      <td>1.0</td>\n",
              "      <td>3.0</td>\n",
              "    </tr>\n",
              "    <tr>\n",
              "      <th>openess_to_experience</th>\n",
              "      <td>3998.0</td>\n",
              "      <td>-0.0</td>\n",
              "      <td>1.0</td>\n",
              "      <td>-7.0</td>\n",
              "      <td>-1.0</td>\n",
              "      <td>-0.0</td>\n",
              "      <td>1.0</td>\n",
              "      <td>2.0</td>\n",
              "    </tr>\n",
              "  </tbody>\n",
              "</table>\n",
              "</div>\n",
              "      <button class=\"colab-df-convert\" onclick=\"convertToInteractive('df-cf0e2c61-898d-464d-a52e-70b7967c8ad0')\"\n",
              "              title=\"Convert this dataframe to an interactive table.\"\n",
              "              style=\"display:none;\">\n",
              "        \n",
              "  <svg xmlns=\"http://www.w3.org/2000/svg\" height=\"24px\"viewBox=\"0 0 24 24\"\n",
              "       width=\"24px\">\n",
              "    <path d=\"M0 0h24v24H0V0z\" fill=\"none\"/>\n",
              "    <path d=\"M18.56 5.44l.94 2.06.94-2.06 2.06-.94-2.06-.94-.94-2.06-.94 2.06-2.06.94zm-11 1L8.5 8.5l.94-2.06 2.06-.94-2.06-.94L8.5 2.5l-.94 2.06-2.06.94zm10 10l.94 2.06.94-2.06 2.06-.94-2.06-.94-.94-2.06-.94 2.06-2.06.94z\"/><path d=\"M17.41 7.96l-1.37-1.37c-.4-.4-.92-.59-1.43-.59-.52 0-1.04.2-1.43.59L10.3 9.45l-7.72 7.72c-.78.78-.78 2.05 0 2.83L4 21.41c.39.39.9.59 1.41.59.51 0 1.02-.2 1.41-.59l7.78-7.78 2.81-2.81c.8-.78.8-2.07 0-2.86zM5.41 20L4 18.59l7.72-7.72 1.47 1.35L5.41 20z\"/>\n",
              "  </svg>\n",
              "      </button>\n",
              "      \n",
              "  <style>\n",
              "    .colab-df-container {\n",
              "      display:flex;\n",
              "      flex-wrap:wrap;\n",
              "      gap: 12px;\n",
              "    }\n",
              "\n",
              "    .colab-df-convert {\n",
              "      background-color: #E8F0FE;\n",
              "      border: none;\n",
              "      border-radius: 50%;\n",
              "      cursor: pointer;\n",
              "      display: none;\n",
              "      fill: #1967D2;\n",
              "      height: 32px;\n",
              "      padding: 0 0 0 0;\n",
              "      width: 32px;\n",
              "    }\n",
              "\n",
              "    .colab-df-convert:hover {\n",
              "      background-color: #E2EBFA;\n",
              "      box-shadow: 0px 1px 2px rgba(60, 64, 67, 0.3), 0px 1px 3px 1px rgba(60, 64, 67, 0.15);\n",
              "      fill: #174EA6;\n",
              "    }\n",
              "\n",
              "    [theme=dark] .colab-df-convert {\n",
              "      background-color: #3B4455;\n",
              "      fill: #D2E3FC;\n",
              "    }\n",
              "\n",
              "    [theme=dark] .colab-df-convert:hover {\n",
              "      background-color: #434B5C;\n",
              "      box-shadow: 0px 1px 3px 1px rgba(0, 0, 0, 0.15);\n",
              "      filter: drop-shadow(0px 1px 2px rgba(0, 0, 0, 0.3));\n",
              "      fill: #FFFFFF;\n",
              "    }\n",
              "  </style>\n",
              "\n",
              "      <script>\n",
              "        const buttonEl =\n",
              "          document.querySelector('#df-cf0e2c61-898d-464d-a52e-70b7967c8ad0 button.colab-df-convert');\n",
              "        buttonEl.style.display =\n",
              "          google.colab.kernel.accessAllowed ? 'block' : 'none';\n",
              "\n",
              "        async function convertToInteractive(key) {\n",
              "          const element = document.querySelector('#df-cf0e2c61-898d-464d-a52e-70b7967c8ad0');\n",
              "          const dataTable =\n",
              "            await google.colab.kernel.invokeFunction('convertToInteractive',\n",
              "                                                     [key], {});\n",
              "          if (!dataTable) return;\n",
              "\n",
              "          const docLinkHtml = 'Like what you see? Visit the ' +\n",
              "            '<a target=\"_blank\" href=https://colab.research.google.com/notebooks/data_table.ipynb>data table notebook</a>'\n",
              "            + ' to learn more about interactive tables.';\n",
              "          element.innerHTML = '';\n",
              "          dataTable['output_type'] = 'display_data';\n",
              "          await google.colab.output.renderOutput(dataTable, element);\n",
              "          const docLink = document.createElement('div');\n",
              "          docLink.innerHTML = docLinkHtml;\n",
              "          element.appendChild(docLink);\n",
              "        }\n",
              "      </script>\n",
              "    </div>\n",
              "  </div>\n",
              "  "
            ],
            "text/plain": [
              "                        count      mean       std      min       25%  \\\n",
              "ID                     3998.0  663795.0  363218.0  11244.0  334284.0   \n",
              "Salary                 3998.0  307700.0  212737.0  35000.0  180000.0   \n",
              "Class10_percentage     3998.0      78.0      10.0     43.0      72.0   \n",
              "Class12_Passout        3998.0    2008.0       2.0   1995.0    2007.0   \n",
              "Class12_percentage     3998.0      74.0      11.0     40.0      66.0   \n",
              "CollegeID              3998.0    5157.0    4802.0      2.0     494.0   \n",
              "CollegeTier            3998.0       2.0       0.0      1.0       2.0   \n",
              "collegeGPA             3998.0      71.0       8.0      6.0      66.0   \n",
              "CollegeCityID          3998.0    5157.0    4802.0      2.0     494.0   \n",
              "CollegeCityTier        3998.0       0.0       0.0      0.0       0.0   \n",
              "GraduationYear         3998.0    2012.0      32.0      0.0    2012.0   \n",
              "English                3998.0     502.0     105.0    180.0     425.0   \n",
              "Logical                3998.0     502.0      87.0    195.0     445.0   \n",
              "Quant                  3998.0     513.0     122.0    120.0     430.0   \n",
              "Domain                 3998.0       1.0       0.0     -1.0       0.0   \n",
              "ComputerProgramming    3998.0     353.0     205.0     -1.0     295.0   \n",
              "ElectronicsAndSemicon  3998.0      95.0     158.0     -1.0      -1.0   \n",
              "ComputerScience        3998.0      91.0     175.0     -1.0      -1.0   \n",
              "MechanicalEngg         3998.0      23.0      98.0     -1.0      -1.0   \n",
              "ElectricalEngg         3998.0      16.0      88.0     -1.0      -1.0   \n",
              "TelecomEngg            3998.0      32.0     105.0     -1.0      -1.0   \n",
              "CivilEngg              3998.0       3.0      37.0     -1.0      -1.0   \n",
              "conscientiousness      3998.0      -0.0       1.0     -4.0      -1.0   \n",
              "agreeableness          3998.0       0.0       1.0     -6.0      -0.0   \n",
              "extraversion           3998.0       0.0       1.0     -5.0      -1.0   \n",
              "nueroticism            3998.0      -0.0       1.0     -3.0      -1.0   \n",
              "openess_to_experience  3998.0      -0.0       1.0     -7.0      -1.0   \n",
              "\n",
              "                            50%       75%        max  \n",
              "ID                     639600.0  990480.0  1298275.0  \n",
              "Salary                 300000.0  370000.0  4000000.0  \n",
              "Class10_percentage         79.0      86.0       98.0  \n",
              "Class12_Passout          2008.0    2009.0     2013.0  \n",
              "Class12_percentage         74.0      83.0       99.0  \n",
              "CollegeID                3879.0    8818.0    18409.0  \n",
              "CollegeTier                 2.0       2.0        2.0  \n",
              "collegeGPA                 72.0      76.0      100.0  \n",
              "CollegeCityID            3879.0    8818.0    18409.0  \n",
              "CollegeCityTier             0.0       1.0        1.0  \n",
              "GraduationYear           2013.0    2014.0     2017.0  \n",
              "English                   500.0     570.0      875.0  \n",
              "Logical                   505.0     565.0      795.0  \n",
              "Quant                     515.0     595.0      900.0  \n",
              "Domain                      1.0       1.0        1.0  \n",
              "ComputerProgramming       415.0     495.0      840.0  \n",
              "ElectronicsAndSemicon      -1.0     233.0      612.0  \n",
              "ComputerScience            -1.0      -1.0      715.0  \n",
              "MechanicalEngg             -1.0      -1.0      623.0  \n",
              "ElectricalEngg             -1.0      -1.0      676.0  \n",
              "TelecomEngg                -1.0      -1.0      548.0  \n",
              "CivilEngg                  -1.0      -1.0      516.0  \n",
              "conscientiousness           0.0       1.0        2.0  \n",
              "agreeableness               0.0       1.0        2.0  \n",
              "extraversion                0.0       1.0        3.0  \n",
              "nueroticism                -0.0       1.0        3.0  \n",
              "openess_to_experience      -0.0       1.0        2.0  "
            ]
          },
          "execution_count": 13,
          "metadata": {},
          "output_type": "execute_result"
        }
      ],
      "source": [
        "np.round(df.describe().transpose())"
      ]
    },
    {
      "cell_type": "code",
      "execution_count": null,
      "metadata": {
        "colab": {
          "base_uri": "https://localhost:8080/"
        },
        "id": "ITGKX-b9blv_",
        "outputId": "c3388ca5-1c03-4894-eb6e-6f1e807b907a"
      },
      "outputs": [
        {
          "name": "stdout",
          "output_type": "stream",
          "text": [
            "<class 'pandas.core.frame.DataFrame'>\n",
            "RangeIndex: 3998 entries, 0 to 3997\n",
            "Data columns (total 38 columns):\n",
            " #   Column                 Non-Null Count  Dtype         \n",
            "---  ------                 --------------  -----         \n",
            " 0   ID                     3998 non-null   int64         \n",
            " 1   Salary                 3998 non-null   int64         \n",
            " 2   DOJ                    3998 non-null   datetime64[ns]\n",
            " 3   DOL                    3998 non-null   object        \n",
            " 4   Designation            3998 non-null   object        \n",
            " 5   JobCity                3998 non-null   object        \n",
            " 6   Gender                 3998 non-null   object        \n",
            " 7   DOB                    3998 non-null   datetime64[ns]\n",
            " 8   Class10_percentage     3998 non-null   float64       \n",
            " 9   10board                3998 non-null   object        \n",
            " 10  Class12_Passout        3998 non-null   int64         \n",
            " 11  Class12_percentage     3998 non-null   float64       \n",
            " 12  12board                3998 non-null   object        \n",
            " 13  CollegeID              3998 non-null   int64         \n",
            " 14  CollegeTier            3998 non-null   int64         \n",
            " 15  Degree                 3998 non-null   object        \n",
            " 16  Specialization         3998 non-null   object        \n",
            " 17  collegeGPA             3998 non-null   float64       \n",
            " 18  CollegeCityID          3998 non-null   int64         \n",
            " 19  CollegeCityTier        3998 non-null   int64         \n",
            " 20  CollegeState           3998 non-null   object        \n",
            " 21  GraduationYear         3998 non-null   int64         \n",
            " 22  English                3998 non-null   int64         \n",
            " 23  Logical                3998 non-null   int64         \n",
            " 24  Quant                  3998 non-null   int64         \n",
            " 25  Domain                 3998 non-null   float64       \n",
            " 26  ComputerProgramming    3998 non-null   int64         \n",
            " 27  ElectronicsAndSemicon  3998 non-null   int64         \n",
            " 28  ComputerScience        3998 non-null   int64         \n",
            " 29  MechanicalEngg         3998 non-null   int64         \n",
            " 30  ElectricalEngg         3998 non-null   int64         \n",
            " 31  TelecomEngg            3998 non-null   int64         \n",
            " 32  CivilEngg              3998 non-null   int64         \n",
            " 33  conscientiousness      3998 non-null   float64       \n",
            " 34  agreeableness          3998 non-null   float64       \n",
            " 35  extraversion           3998 non-null   float64       \n",
            " 36  nueroticism            3998 non-null   float64       \n",
            " 37  openess_to_experience  3998 non-null   float64       \n",
            "dtypes: datetime64[ns](2), float64(9), int64(18), object(9)\n",
            "memory usage: 1.2+ MB\n"
          ]
        }
      ],
      "source": [
        "df.info()"
      ]
    },
    {
      "cell_type": "code",
      "execution_count": null,
      "metadata": {
        "id": "Xy7_5FMEboyS"
      },
      "outputs": [],
      "source": [
        "df.head()"
      ]
    },
    {
      "cell_type": "code",
      "execution_count": null,
      "metadata": {
        "id": "vUWdlCwebqpF"
      },
      "outputs": [],
      "source": [
        "int_col = df.select_dtypes(include=['int64','float64']).columns\n",
        "cat_col = df.select_dtypes(include=['object']).columns\n",
        "datet_col = df.select_dtypes(include=['datetime64[ns]']).columns\n",
        "print('Int and float col name :')\n",
        "print(int_col)\n",
        "print()\n",
        "print('Categorical col name :')\n",
        "print(cat_col)\n",
        "print()\n",
        "print('Date Time col name :')\n",
        "print(datet_col)"
      ]
    },
    {
      "cell_type": "code",
      "execution_count": null,
      "metadata": {
        "id": "nsbipH75btBc"
      },
      "outputs": [],
      "source": [
        "#converting date column to datetime type\n",
        "#and fetching year,month and day from column\n",
        "# df[\"DOJ\"]=pd.to_datetime(df[\"DOJ\"])\n",
        "df[\"DOL\"].replace(\"present\",dt.datetime.today(),inplace=True)\n",
        "df[\"DOL\"]=pd.to_datetime(df[\"DOL\"])\n",
        "df[\"Year\"]=pd.to_datetime(df[\"DOL\"]).dt.year\n",
        "df[\"Month\"]=pd.to_datetime(df[\"DOL\"]).dt.month\n",
        "df[\"Day\"]=pd.to_datetime(df[\"DOL\"]).dt.day"
      ]
    },
    {
      "cell_type": "code",
      "execution_count": null,
      "metadata": {
        "id": "QRP13jcXbvo8"
      },
      "outputs": [],
      "source": [
        "# replacing -1 value present in dataframe to 0\n",
        "\n",
        "df.replace(to_replace=-1, value=0, inplace=True)"
      ]
    },
    {
      "cell_type": "code",
      "execution_count": null,
      "metadata": {
        "id": "9NQln0HDb0Y8"
      },
      "outputs": [],
      "source": [
        "# we can see in 10board and 12board columns values is not stable, so i'am changing all values to only state board,cbse board,icse board\n",
        "df['10board'].value_counts()"
      ]
    },
    {
      "cell_type": "code",
      "execution_count": null,
      "metadata": {
        "id": "LPsBi-RBb28A"
      },
      "outputs": [],
      "source": [
        "'10board'].unique()"
      ]
    },
    {
      "cell_type": "code",
      "execution_count": null,
      "metadata": {
        "id": "IsgTjmQzb40F"
      },
      "outputs": [],
      "source": [
        "# df.replace(to_replace=-1, value=0, inplace=True)\n",
        "df['10board'].replace([ 'cbse', 'cbse[gulf zone]','icse board , new delhi', 'cbse board','central board of secondary education'], 'cbse',inplace=True)\n",
        "df['10board'].replace(\"cicse\",\"icse\",inplace=True)"
      ]
    },
    {
      "cell_type": "code",
      "execution_count": null,
      "metadata": {
        "id": "6CA2zDfIb7pq"
      },
      "outputs": [],
      "source": [
        "board10_uniqueval = df['10board'].unique()\n",
        "board10_append = []\n",
        "for i in board10_uniqueval:\n",
        "  if i == 'cbse' or i == 'icse':\n",
        "    continue\n",
        "  else:\n",
        "    board10_append.append(i)\n",
        "\n",
        "board10_append"
      ]
    },
    {
      "cell_type": "code",
      "execution_count": null,
      "metadata": {
        "id": "TPeGnMFFb-13"
      },
      "outputs": [],
      "source": [
        "for j in board10_append:\n",
        "  df['10board'].replace(j, 'state',inplace=True)"
      ]
    },
    {
      "cell_type": "code",
      "execution_count": null,
      "metadata": {
        "id": "vY6fn67VcAyI"
      },
      "outputs": [],
      "source": [
        "df['10board'].unique()"
      ]
    },
    {
      "cell_type": "code",
      "execution_count": null,
      "metadata": {
        "id": "FP9Fx5CEcDEy"
      },
      "outputs": [],
      "source": [
        "df['12board'].value_counts()\n"
      ]
    },
    {
      "cell_type": "code",
      "execution_count": null,
      "metadata": {
        "id": "NmQ6CRzicE9I"
      },
      "outputs": [],
      "source": [
        "df['12board'].unique()"
      ]
    },
    {
      "cell_type": "code",
      "execution_count": null,
      "metadata": {
        "id": "-xnBub_zcHNb"
      },
      "outputs": [],
      "source": [
        "df['12board'].replace(['all india board','central board of secondary education, new delhi', 'cbese'], 'cbse',inplace=True)\n",
        "df['12board'].replace(['isc', 'isc board', 'isce', 'cicse','isc board , new delhi'], 'icse',inplace=True)"
      ]
    },
    {
      "cell_type": "code",
      "execution_count": null,
      "metadata": {
        "id": "gJsIcy13cKKz"
      },
      "outputs": [],
      "source": [
        "board12_uniqueval = df['12board'].unique()\n",
        "board12_append = []\n",
        "for i in board12_uniqueval:\n",
        "  if i == 'cbse' or i == 'icse':\n",
        "    continue\n",
        "  else:\n",
        "    board12_append.append(i)\n",
        "\n",
        "board12_append"
      ]
    },
    {
      "cell_type": "code",
      "execution_count": null,
      "metadata": {
        "id": "yYZZ63G0cMKM"
      },
      "outputs": [],
      "source": [
        "for j in board12_append:\n",
        "  df['12board'].replace(j,'state',inplace=True)\n",
        "# data['10 board'].replace(0,'n/a',inplace=True)\n",
        "\n",
        "df['12board'].unique()"
      ]
    },
    {
      "cell_type": "code",
      "execution_count": null,
      "metadata": {
        "id": "hzb2B55jcQRB"
      },
      "outputs": [],
      "source": [
        "df.shape"
      ]
    },
    {
      "cell_type": "code",
      "execution_count": null,
      "metadata": {
        "id": "uOj36g6UcR7T"
      },
      "outputs": [],
      "source": [
        "df.isnull().sum()"
      ]
    },
    {
      "cell_type": "code",
      "execution_count": null,
      "metadata": {
        "id": "xj680MCJcV8I"
      },
      "outputs": [],
      "source": [
        "df[int_col].head()"
      ]
    },
    {
      "cell_type": "code",
      "execution_count": null,
      "metadata": {
        "id": "f6eSENP1cZT0"
      },
      "outputs": [],
      "source": [
        "df[cat_col].head()"
      ]
    },
    {
      "cell_type": "code",
      "execution_count": null,
      "metadata": {
        "id": "WCIkfLBRccK8"
      },
      "outputs": [],
      "source": [
        "df[datet_col].head()"
      ]
    },
    {
      "cell_type": "code",
      "execution_count": null,
      "metadata": {
        "id": "eEyITbbocjG0"
      },
      "outputs": [],
      "source": [
        "# Univariate Analysis on Salary column\n",
        "\n",
        "sns.set_style(\"darkgrid\")\n",
        "plt.figure(figsize=(8,6))\n",
        "sns.distplot(df['Salary'])\n",
        "plt.axvline(df['Salary'].mean(),color='black', label='Mean')\n",
        "plt.title(\"Distribution of Salary\")\n",
        "plt.legend(shadow=True,fontsize=\"larger\")\n",
        "\n",
        "skew = df['Salary'].skew()\n",
        "kurt = df['Salary'].kurt()\n",
        "print('Skewness:{}'.format(round(skew,2)))\n",
        "print('Kurtosis:{}'.format(round(kurt,2)))\n",
        "\n",
        "plt.show()"
      ]
    },
    {
      "cell_type": "code",
      "execution_count": null,
      "metadata": {
        "id": "adsUUDQ5clzh"
      },
      "outputs": [],
      "source": [
        "# Univariate Analysis on Sa10percentage column\n",
        "\n",
        "sns.set_style(\"darkgrid\")\n",
        "plt.figure(figsize=(8,6))\n",
        "sns.distplot(df['Class10_percentage'])\n",
        "plt.axvline(df['Class10_percentage'].mean(), color=\"blue\", label=\"Mean\")\n",
        "plt.title(\"distribution of Class10_percentage\")\n",
        "plt.legend(shadow=True,fontsize=\"larger\")\n",
        "\n",
        "skew = df['Class10_percentage'].skew()\n",
        "kurt = df['Class10_percentage'].kurt()\n",
        "print('Skewness:{}'.format(round(skew,2)))\n",
        "print('Kurtosis:{}'.format(round(kurt,2)))"
      ]
    },
    {
      "cell_type": "code",
      "execution_count": null,
      "metadata": {
        "id": "ryksp7owcoYa"
      },
      "outputs": [],
      "source": [
        "# Univariate Analysis on Sa10percentage column\n",
        "\n",
        "sns.set_style(\"darkgrid\")\n",
        "plt.figure(figsize=(8,6))\n",
        "sns.distplot(df['Class12_percentage'])\n",
        "plt.axvline(df['Class12_percentage'].mean(), color=\"blue\", label=\"Mean\")\n",
        "plt.title(\"distribution of Class12_percentage\")\n",
        "plt.legend(shadow=True,fontsize=\"larger\")\n",
        "\n",
        "skew = df['Class12_percentage'].skew()\n",
        "kurt = df['Class12_percentage'].kurt()\n",
        "print('Skewness:{}'.format(round(skew,2)))\n",
        "print('Kurtosis:{}'.format(round(kurt,2)))"
      ]
    },
    {
      "cell_type": "code",
      "execution_count": null,
      "metadata": {
        "id": "VCe9oO1qcrhg"
      },
      "outputs": [],
      "source": [
        "#year of joining\n",
        "(df['DOJ'].dt.year).value_counts().plot(kind='bar')"
      ]
    },
    {
      "cell_type": "code",
      "execution_count": null,
      "metadata": {
        "id": "Kd6ldNdgcwbq"
      },
      "outputs": [],
      "source": [
        "# Bar graph of Birth Year\n",
        "(df['DOB'].dt.year).value_counts().plot(kind='bar')"
      ]
    },
    {
      "cell_type": "code",
      "execution_count": null,
      "metadata": {
        "id": "J-stWLQ6c0Ic"
      },
      "outputs": [],
      "source": [
        "board10_grouped = df.groupby(by='10board').size()\n",
        "board10_grouped.plot.bar()"
      ]
    },
    {
      "cell_type": "code",
      "execution_count": null,
      "metadata": {
        "id": "QeR4Hfpkc1Vi"
      },
      "outputs": [],
      "source": [
        "board12_grouped = df.groupby(by='12board').size()\n",
        "board12_grouped.plot.bar()"
      ]
    },
    {
      "cell_type": "code",
      "execution_count": null,
      "metadata": {
        "id": "B7ymFsFNc3lV"
      },
      "outputs": [],
      "source": [
        "class12passout_grouped = df.groupby(by='Class12_Passout').size()\n",
        "class12passout_grouped.plot.bar()"
      ]
    },
    {
      "cell_type": "code",
      "execution_count": null,
      "metadata": {
        "id": "6-RaVRn-c68P"
      },
      "outputs": [],
      "source": [
        "(df['Gender']).value_counts().plot(kind='bar')"
      ]
    },
    {
      "cell_type": "code",
      "execution_count": null,
      "metadata": {
        "id": "UAlD04efc8HQ"
      },
      "outputs": [],
      "source": [
        "top_fields=list(df.sort_values(\"Salary\",ascending=False)[\"Designation\"].unique())[:20]\n",
        "print(top_fields)\n",
        "\n",
        "top_designation=df[df[\"Designation\"].isin(top_fields)]"
      ]
    },
    {
      "cell_type": "code",
      "execution_count": null,
      "metadata": {
        "id": "7XaipKjCc-yp"
      },
      "outputs": [],
      "source": [
        "top_designation.groupby([\"Designation\"])[\"Salary\"].describe().sort_values(\"max\",ascending=False)"
      ]
    },
    {
      "cell_type": "code",
      "execution_count": null,
      "metadata": {
        "id": "spqgz_KQdBov"
      },
      "outputs": [],
      "source": [
        "plt.figure(figsize=(15,5))\n",
        "top_designation[\"Designation\"].value_counts().plot(kind=\"bar\")"
      ]
    },
    {
      "cell_type": "code",
      "execution_count": null,
      "metadata": {
        "id": "V85AJW4QdD89"
      },
      "outputs": [],
      "source": [
        "plt.figure(figsize=(35,15))\n",
        "sns.countplot(x=\"Designation\",hue=\"Gender\",data=top_designation)\n",
        "plt.xticks(fontsize=32,rotation=90)\n",
        "plt.yticks(fontsize=32)"
      ]
    },
    {
      "cell_type": "code",
      "execution_count": null,
      "metadata": {
        "id": "ewAGClNjdGHR"
      },
      "outputs": [],
      "source": [
        "#lets add exp column to dataset\n",
        "top_designation[\"Exp\"]=(top_designation[\"DOL\"]).dt.year - (top_designation[\"DOJ\"]).dt.year"
      ]
    },
    {
      "cell_type": "code",
      "execution_count": null,
      "metadata": {
        "id": "udqPvVWRdISH"
      },
      "outputs": [],
      "source": [
        "top_designation.head()"
      ]
    },
    {
      "cell_type": "code",
      "execution_count": null,
      "metadata": {
        "id": "AoXnFyWGdLB8"
      },
      "outputs": [],
      "source": [
        "plt.figure(figsize=(35,15))\n",
        "\n",
        "sns.countplot(df.Gender,hue=df.Specialization)\n",
        "plt.show()"
      ]
    },
    {
      "cell_type": "code",
      "execution_count": null,
      "metadata": {
        "id": "BXMA0N-edRHX"
      },
      "outputs": [],
      "source": [
        "def outliers_iqr(df,col):    \n",
        "    q1 = df[col].quantile(0.25)\n",
        "    q3 = df[col].quantile(0.75)\n",
        "    iqr = q3 - q1\n",
        "\n",
        "    lb = q1 - (1.5*iqr)\n",
        "    ub = q3 + (1.5*iqr)\n",
        "    outliers = []\n",
        "    for val in df[col]:\n",
        "        if val < lb or val > ub:\n",
        "            outliers.append(val)\n",
        "\n",
        "    return outliers,len(outliers)"
      ]
    },
    {
      "cell_type": "code",
      "execution_count": null,
      "metadata": {
        "id": "IYleTB4QdXVq"
      },
      "outputs": [],
      "source": [
        "outliers_iqr(df, 'Salary')"
      ]
    },
    {
      "cell_type": "code",
      "execution_count": null,
      "metadata": {
        "id": "srtVTdCkdbfn"
      },
      "outputs": [],
      "source": [
        "sns.boxplot(x='Salary', y = 'Gender', data=df)\n",
        "plt.suptitle('Salary levels by gender')"
      ]
    },
    {
      "cell_type": "code",
      "execution_count": null,
      "metadata": {
        "id": "XoQRlMNDddiY"
      },
      "outputs": [],
      "source": [
        "df.head()"
      ]
    },
    {
      "cell_type": "code",
      "execution_count": null,
      "metadata": {
        "id": "fXZgfcNydfkG"
      },
      "outputs": [],
      "source": [
        "#Salary distribution for each designation\n",
        "plt.figure(figsize=(35,10))\n",
        "for j in range(len(top_fields[:10])):\n",
        "    plt.subplot(str(25)+str(j))\n",
        "    sns.histplot(x=\"Salary\",data=top_designation[top_designation[\"Designation\"]==top_fields[j]],bins=10,hue=\"Gender\")\n",
        "    plt.title(top_fields[j])\n"
      ]
    },
    {
      "cell_type": "code",
      "execution_count": null,
      "metadata": {
        "colab": {
          "background_save": true
        },
        "id": "erdvLeQQdhbK"
      },
      "outputs": [],
      "source": [
        "i=10\n",
        "plt.figure(figsize=(35,10))\n",
        "for j in range(len(top_fields[10:])):\n",
        "    plt.subplot(str(25)+str(j))\n",
        "    sns.histplot(x=\"Salary\",data=top_designation[top_designation[\"Designation\"]==top_fields[i]],bins=10,hue=\"Gender\")\n",
        "    plt.title(top_fields[i])\n",
        "    i=i+1"
      ]
    },
    {
      "cell_type": "code",
      "execution_count": null,
      "metadata": {
        "colab": {
          "background_save": true
        },
        "id": "xRv-WMzKdjcn"
      },
      "outputs": [],
      "source": [
        "# Doing same with Box plot and see the median salary\n",
        "plt.figure(figsize=(20,10))\n",
        "for j in range(len(top_fields[:10])):\n",
        "    plt.subplot(str(25)+str(j))\n",
        "    sns.boxplot(x=\"Salary\",data=top_designation[top_designation[\"Designation\"]==top_fields[j]])\n",
        "    plt.title(top_fields[j])"
      ]
    },
    {
      "cell_type": "code",
      "execution_count": null,
      "metadata": {
        "colab": {
          "background_save": true
        },
        "id": "uhpZHjaCdliw"
      },
      "outputs": [],
      "source": [
        "i=10\n",
        "plt.figure(figsize=(20,10))\n",
        "for j in range(len(top_fields[:10])):\n",
        "    plt.subplot(str(25)+str(j))\n",
        "    sns.boxplot(x=\"Salary\",data=top_designation[top_designation[\"Designation\"]==top_fields[i]])\n",
        "    plt.title(top_fields[i])\n",
        "    i=i+1"
      ]
    },
    {
      "cell_type": "code",
      "execution_count": null,
      "metadata": {
        "colab": {
          "background_save": true
        },
        "id": "X_16IQNfdolN"
      },
      "outputs": [],
      "source": [
        "# lets check for individual gender\n",
        "# for male\n",
        "\n",
        "plt.figure(figsize=(20,10))\n",
        "for j in range(len(top_fields[:10])):\n",
        "    plt.subplot(str(25)+str(j))\n",
        "    sns.boxplot(x=\"Salary\",data=top_designation[(top_designation[\"Designation\"]==top_fields[j]) & (top_designation[\"Gender\"]==\"m\")])\n",
        "    plt.title(top_fields[j])"
      ]
    },
    {
      "cell_type": "code",
      "execution_count": null,
      "metadata": {
        "colab": {
          "background_save": true
        },
        "id": "95l-EWiKdqyy"
      },
      "outputs": [],
      "source": [
        "i=10\n",
        "plt.figure(figsize=(20,10))\n",
        "for j in range(len(top_fields[:10])):\n",
        "    plt.subplot(str(25)+str(j))\n",
        "    sns.boxplot(x=\"Salary\",data=top_designation[(top_designation[\"Designation\"]==top_fields[i]) & (top_designation[\"Gender\"]==\"m\")])\n",
        "    plt.title(top_fields[i])\n",
        "    i=i+1\n"
      ]
    },
    {
      "cell_type": "code",
      "execution_count": null,
      "metadata": {
        "colab": {
          "background_save": true
        },
        "id": "4qO6jx4_drjP"
      },
      "outputs": [],
      "source": [
        "# for female\n",
        "plt.figure(figsize=(20,10))\n",
        "for j in range(len(top_fields[:10])):\n",
        "    plt.subplot(str(25)+str(j))\n",
        "    sns.boxplot(x=\"Salary\",data=top_designation[(top_designation[\"Designation\"]==top_fields[j]) & (top_designation[\"Gender\"]==\"f\")])\n",
        "    plt.title(top_fields[j])"
      ]
    },
    {
      "cell_type": "code",
      "execution_count": null,
      "metadata": {
        "colab": {
          "background_save": true
        },
        "id": "cL3rB2bhdtbm"
      },
      "outputs": [],
      "source": [
        "i=10\n",
        "plt.figure(figsize=(20,10))\n",
        "for j in range(len(top_fields[:10])):\n",
        "    plt.subplot(str(25)+str(j))\n",
        "    sns.boxplot(x=\"Salary\",data=top_designation[(top_designation[\"Designation\"]==top_fields[i]) & (top_designation[\"Gender\"]==\"f\")])\n",
        "    plt.title(top_fields[i])\n",
        "    i=i+1"
      ]
    },
    {
      "cell_type": "code",
      "execution_count": null,
      "metadata": {
        "colab": {
          "background_save": true
        },
        "id": "YXTzGNd5dy0v"
      },
      "outputs": [],
      "source": [
        "top_designation.head(1)"
      ]
    },
    {
      "cell_type": "code",
      "execution_count": null,
      "metadata": {
        "colab": {
          "background_save": true
        },
        "id": "gWn0o-j2d0qO"
      },
      "outputs": [],
      "source": [
        "# Lets Look Salary By Jib City like which State offers more salary\n",
        "plt.figure(figsize=(100,20))\n",
        "sns.barplot(x=\"JobCity\",y=\"Salary\",hue=\"Gender\",data=top_designation)\n",
        "plt.xticks(fontsize=68,rotation=90)\n",
        "plt.yticks(fontsize=68)"
      ]
    },
    {
      "cell_type": "code",
      "execution_count": null,
      "metadata": {
        "colab": {
          "background_save": true
        },
        "id": "kmSM1zj-d3E9"
      },
      "outputs": [],
      "source": [
        "# Lets Check the Degree\n",
        "sns.countplot(x=\"Degree\",hue=\"Gender\",data=top_designation)\n"
      ]
    },
    {
      "cell_type": "code",
      "execution_count": null,
      "metadata": {
        "colab": {
          "background_save": true
        },
        "id": "vBoPjdqWd6on"
      },
      "outputs": [],
      "source": [
        "# Lets Check In Which State most aspirants are working.\n",
        "plt.figure(figsize=(55,15))\n",
        "sns.countplot(x=\"JobCity\",data=top_designation,hue=\"Gender\")\n",
        "plt.xticks(fontsize=38,rotation=90)\n",
        "plt.yticks(fontsize=38)"
      ]
    },
    {
      "cell_type": "code",
      "execution_count": null,
      "metadata": {
        "colab": {
          "background_save": true
        },
        "id": "QDOtIOR3eD8n"
      },
      "outputs": [],
      "source": [
        "# Lets Check from which region most aspirants are from\n",
        "plt.figure(figsize=(55,15))\n",
        "sns.countplot(x=\"CollegeState\",data=top_designation,hue=\"Gender\")\n",
        "plt.xticks(fontsize=42,rotation=90)\n",
        "plt.yticks(fontsize=42)"
      ]
    },
    {
      "cell_type": "code",
      "execution_count": null,
      "metadata": {
        "colab": {
          "background_save": true
        },
        "id": "4zSNhMm1eGIw"
      },
      "outputs": [],
      "source": [
        "top_designation[\"SAL\"]=top_designation[\"Salary\"].apply(lambda x:\">=500K\" if x>=5 else \"<500K\")\n",
        "top_designation[\"EXPR\"]=top_designation[\"Exp\"].apply(lambda x:str(x))\n",
        "top_designation[\"GPA\"]=top_designation[\"collegeGPA\"].apply(lambda x:str(x))\n",
        "np.random.seed(1)\n",
        "mindSample=top_designation[['Designation', 'JobCity', 'Gender','Degree', 'Specialization',\"GPA\",\"SAL\"]].groupby(\"Gender\").sample(200)"
      ]
    },
    {
      "cell_type": "code",
      "execution_count": null,
      "metadata": {
        "colab": {
          "background_save": true
        },
        "id": "D5lt_baMeKJ2"
      },
      "outputs": [],
      "source": [
        "top_designation.head()"
      ]
    },
    {
      "cell_type": "code",
      "execution_count": null,
      "metadata": {
        "colab": {
          "background_save": true
        },
        "id": "mCRaNboPeMpy"
      },
      "outputs": [],
      "source": [
        "top_designation[\"Age\"]=pd.to_datetime(top_designation[\"DOL\"]).dt.year-pd.to_datetime(top_designation[\"DOB\"]).dt.year\n",
        "plt.figure(figsize=(15,5))\n",
        "plt.subplot(131)\n",
        "sns.scatterplot(x=\"Exp\",y=\"Salary\",data=top_designation,hue=\"Gender\")\n",
        "plt.subplot(132)\n",
        "sns.scatterplot(x=\"Age\",y=\"Salary\",data=top_designation,hue=\"Gender\")\n",
        "plt.subplot(133)\n",
        "sns.scatterplot(x=\"collegeGPA\",y=\"Salary\",data=top_designation,hue=\"Gender\")"
      ]
    },
    {
      "cell_type": "code",
      "execution_count": null,
      "metadata": {
        "colab": {
          "background_save": true
        },
        "id": "wrtViwR2eOvk"
      },
      "outputs": [],
      "source": [
        "# Lets Check the Degree\n",
        "sns.countplot(x=\"Degree\",hue=\"Gender\",data=top_designation)"
      ]
    },
    {
      "cell_type": "code",
      "execution_count": null,
      "metadata": {
        "colab": {
          "background_save": true
        },
        "id": "VTUVPUfKeQoB"
      },
      "outputs": [],
      "source": [
        "plt.figure(figsize=(50,20))\n",
        "sns.countplot(x=\"Specialization\",hue=\"Degree\",data=top_designation)\n",
        "plt.xticks(fontsize=42,rotation=90)\n",
        "plt.yticks(fontsize=42)\n",
        "plt.legend(fontsize=35)"
      ]
    },
    {
      "cell_type": "code",
      "execution_count": null,
      "metadata": {
        "colab": {
          "background_save": true
        },
        "id": "rkc9hKnhebOV"
      },
      "outputs": [],
      "source": [
        "from scipy import stats as st"
      ]
    },
    {
      "cell_type": "code",
      "execution_count": null,
      "metadata": {
        "colab": {
          "background_save": true
        },
        "id": "Dt2TrozseeVG"
      },
      "outputs": [],
      "source": [
        "# Lets Test a hypothesis for sw engg field to check whether of not the salary is >=300K,Age>=27,Exp=5.\n",
        "np.random.seed(1)\n",
        "sw_eng_samp=top_designation[(top_designation[\"Designation\"]==\"software engineer\")].sample(100)\n",
        "saltest=np.round(st.ttest_1samp(sw_eng_samp[\"Salary\"],popmean=3)[1],2)\n",
        "exptest=np.round(st.ttest_1samp(sw_eng_samp[\"Exp\"],popmean=4)[1],2)\n",
        "agetest=np.round(st.ttest_1samp(sw_eng_samp[\"Age\"],popmean=27)[1],2)\n",
        "if saltest<0.05:\n",
        "    print(\"We Reject the null claim and state that the AVG salary for Sw engineers is not 300K\")\n",
        "else:\n",
        "    print(\"We accept the null claim and state that the AVG salary for Sw engineers is min 300K\")\n",
        "if agetest<0.05:\n",
        "    print(\"We Reject the null claim and state that the AVG age for Sw engineers is not 27\")\n",
        "else:\n",
        "    print(\"We accept the null claim and state that the AVG age for Sw engineers is 27\")\n",
        "if exptest<0.05:\n",
        "    print(\"We Reject the null claim and state that the AVG exp for Sw engineers is not 4 Yrs\")\n",
        "else:\n",
        "    print(\"We accept the null claim and state that the AVG exp for Sw engineers is 4 Yrs\")"
      ]
    },
    {
      "cell_type": "code",
      "execution_count": null,
      "metadata": {
        "colab": {
          "background_save": true
        },
        "id": "nG5HIndtegwW"
      },
      "outputs": [],
      "source": [
        "top_designation[(top_designation[\"Designation\"]==\"software engineer\") & (top_designation[\"Gender\"]==\"m\")][[\"Age\",\"Salary\",\"Exp\"]].mean()"
      ]
    },
    {
      "cell_type": "code",
      "execution_count": null,
      "metadata": {
        "colab": {
          "background_save": true
        },
        "id": "C5u84TP9ejfX"
      },
      "outputs": [],
      "source": [
        "df.head(1)"
      ]
    },
    {
      "cell_type": "code",
      "execution_count": null,
      "metadata": {
        "colab": {
          "background_save": true
        },
        "id": "APxang_melcA"
      },
      "outputs": [],
      "source": [
        "# Correlation between the feature using pairplot\n",
        "\n",
        "plt.figure(figsize=(20,15))\n",
        "data = df[['Salary','Class10_percentage','Class12_percentage','collegeGPA', 'conscientiousness','agreeableness','extraversion','nueroticism','openess_to_experience']]\n",
        "sns.pairplot(data)\n",
        "plt.show()"
      ]
    },
    {
      "cell_type": "code",
      "execution_count": null,
      "metadata": {
        "colab": {
          "background_save": true
        },
        "id": "1QBWN1grepUR"
      },
      "outputs": [],
      "source": [
        "plt.figure(figsize=(20,15))\n",
        "data = top_designation[['Salary','Exp']]\n",
        "sns.pairplot(data)\n",
        "plt.show()"
      ]
    },
    {
      "cell_type": "code",
      "execution_count": null,
      "metadata": {
        "colab": {
          "background_save": true
        },
        "id": "AE2YIWB7eqlS"
      },
      "outputs": [],
      "source": [
        "# hypothesis testing\n",
        "\n",
        "df.head()"
      ]
    },
    {
      "cell_type": "code",
      "execution_count": null,
      "metadata": {
        "colab": {
          "background_save": true
        },
        "id": "DSsYTWz6etlx"
      },
      "outputs": [],
      "source": [
        "# Normalize Salary for Better Visualization\n",
        "\n",
        "df['nor_sal']=df['Salary']/100000"
      ]
    },
    {
      "cell_type": "code",
      "execution_count": null,
      "metadata": {
        "colab": {
          "background_save": true
        },
        "id": "thdfYzBreuoN"
      },
      "outputs": [],
      "source": [
        "print('Average Salary :')\n",
        "print('Programmer Analyst :',round(df['nor_sal'][(df['GraduationYear']==2014) & (df['Designation']=='programmer analyst') & (df['Specialization']=='computer science & engineering')].mean(), 2))\n",
        "print('Software Engineer :',round(df['nor_sal'][(df['GraduationYear']==2014) & (df['Designation']=='software engineer')  & (df['Specialization']=='computer science & engineering')].mean(),2))\n",
        "print('Hardware Engineer :',round(df['nor_sal'][(df['GraduationYear']==2014) &(df['Designation']=='hardware engineer')  & (df['Specialization']=='computer science & engineering')].mean(), 2))\n",
        "print('Associate Engineer :',round(df['nor_sal'][(df['GraduationYear']==2014) &(df['Designation']=='associate engineer')  & (df['Specialization']=='computer science & engineering')].mean(), 2))\n"
      ]
    },
    {
      "cell_type": "code",
      "execution_count": null,
      "metadata": {
        "colab": {
          "background_save": true
        },
        "id": "Qw0_tkvfexcN"
      },
      "outputs": [],
      "source": [
        "# Sample Data of required employees\n",
        "\n",
        "sample = np.array([3.02,3.4,0,3.32])\n",
        "sample"
      ]
    },
    {
      "cell_type": "code",
      "execution_count": null,
      "metadata": {
        "colab": {
          "background_save": true
        },
        "id": "XT2lDTi4ezqr"
      },
      "outputs": [],
      "source": [
        "# mean\n",
        "sample_size = len(sample)\n",
        "sample_mean = np.mean(sample)\n",
        "sample_mean\n"
      ]
    },
    {
      "cell_type": "code",
      "execution_count": null,
      "metadata": {
        "colab": {
          "background_save": true
        },
        "id": "g59zFNhie1p0"
      },
      "outputs": [],
      "source": [
        "# Standard Deviation\n",
        "import math\n",
        "sample_std = math.sqrt(sum([(i-sample_mean)**2 for i in sample]) / 3)\n",
        "print('Sample Standard Deviation :', sample_std)"
      ]
    },
    {
      "cell_type": "code",
      "execution_count": null,
      "metadata": {
        "colab": {
          "background_save": true
        },
        "id": "xuyHii25e4BK"
      },
      "outputs": [],
      "source": [
        "pop_mean = 2.75\n",
        "sample_mean = 2.43\n",
        "sample_std = 1.63\n",
        "sample_size = 4"
      ]
    },
    {
      "cell_type": "code",
      "execution_count": null,
      "metadata": {
        "colab": {
          "background_save": true
        },
        "id": "oPdwRImqe5zg"
      },
      "outputs": [],
      "source": [
        "# Calling T-score Function\n",
        "def t_score(pop_mean, sample_mean, sample_std, sample_size):\n",
        "    numerator = sample_mean - pop_mean\n",
        "    denomenator = sample_std / (sample_size**0.5)\n",
        "    return numerator / denomenator\n",
        "\n",
        "\n",
        "t_sc = t_score(pop_mean, sample_mean, sample_std, sample_size)\n",
        "print('t-score :', t_sc)"
      ]
    },
    {
      "cell_type": "code",
      "execution_count": null,
      "metadata": {
        "colab": {
          "background_save": true
        },
        "id": "gkXChMnJe8fK"
      },
      "outputs": [],
      "source": [
        "# Two Tail - Deciding the Significance Level & Calculating the t-critical value\n",
        "from scipy.stats import t\n",
        "confidence_level = 0.95\n",
        "alpha = 1 - confidence_level\n",
        "t_critical = t.ppf(1-alpha/2, df = 3)\n",
        "print('t_critical :', t_critical)"
      ]
    },
    {
      "cell_type": "code",
      "execution_count": null,
      "metadata": {
        "colab": {
          "background_save": true
        },
        "id": "bwSbWayLe_uh"
      },
      "outputs": [],
      "source": [
        "# Visualizing the Sampling Distribution with Rejection Regions\n",
        "from scipy.stats import norm\n",
        "# Defining the x min & x max\n",
        "x_min = 2\n",
        "x_max =6\n",
        "\n",
        "# Defining the Sampling Distribution mean & std\n",
        "mean = pop_mean\n",
        "std = sample_std / (sample_size**0.5)\n",
        "\n",
        "# Ploting the graph and setting the x limits\n",
        "x = np.linspace(x_min, x_max, 100)\n",
        "y = norm.pdf(x, mean, std)\n",
        "plt.xlim(x_min, x_max)\n",
        "plt.plot(x, y)\n",
        "\n",
        "# Computing the left and right critical values of Two tailed Test\n",
        "t_critical_left = pop_mean + (-t_critical * std)\n",
        "t_critical_right = pop_mean + (t_critical * std)\n",
        "\n",
        "print('t_critical_left :', t_critical_left)\n",
        "print('t_critical_right :', t_critical_right)\n",
        "\n",
        "# Shading the left rejection region\n",
        "x_left = np.linspace(x_min, t_critical_left, 100)\n",
        "y_left = norm.pdf(x_left, mean, std)\n",
        "plt.fill_between(x_left, y_left, color='red')\n",
        "\n",
        "# Shading the right rejection region\n",
        "x_right = np.linspace(t_critical_right, x_max, 100)\n",
        "y_right = norm.pdf(x_right, mean, std)\n",
        "plt.fill_between(x_right, y_right, color='red')\n",
        "\n",
        "plt.scatter(sample_mean, 0)\n",
        "plt.annotate(\"x_bar\", (sample_mean, 0.1))"
      ]
    },
    {
      "cell_type": "code",
      "execution_count": null,
      "metadata": {
        "colab": {
          "background_save": true
        },
        "id": "_q7yongGfBTl"
      },
      "outputs": [],
      "source": [
        "# Compairing the Table Value and T-score value\n",
        "# Conclusion using t-test\n",
        "if np.abs(t_sc) > t_critical:\n",
        "    print(\"Reject Null Hypothesis\")\n",
        "else:\n",
        "    print(\"Fail to reject Null Hypothesis\")"
      ]
    },
    {
      "cell_type": "code",
      "execution_count": null,
      "metadata": {
        "colab": {
          "background_save": true
        },
        "id": "JuqZnoQrfDol"
      },
      "outputs": [],
      "source": [
        "# Conclusion using p-test\n",
        "p_value = 2 * (1.0 - norm.cdf(np.abs(t_sc)))\n",
        "\n",
        "print(\"p_value = \", p_value)\n",
        "\n",
        "if p_value < alpha:\n",
        "    print(\"Reject Null Hypothesis\")\n",
        "else:\n",
        "    print(\"Fail to reject Null Hypothesis\")"
      ]
    },
    {
      "cell_type": "code",
      "execution_count": null,
      "metadata": {
        "colab": {
          "background_save": true
        },
        "id": "xebx6pe3fG4_"
      },
      "outputs": [],
      "source": [
        "# Column standardization using MinMax Scaler\n",
        "from sklearn.preprocessing import MinMaxScaler\n",
        "scaler = MinMaxScaler()"
      ]
    },
    {
      "cell_type": "code",
      "execution_count": null,
      "metadata": {
        "colab": {
          "background_save": true
        },
        "id": "nX1cO4PNfJ_d"
      },
      "outputs": [],
      "source": [
        "# Standardizing Salary Column\n",
        "\n",
        "scaled_sal = scaler.fit_transform(df['Salary'].values.reshape(-1,1))\n",
        "print(scaled_sal[:20])"
      ]
    },
    {
      "cell_type": "code",
      "execution_count": null,
      "metadata": {
        "colab": {
          "background_save": true
        },
        "id": "scm5Yb8YfL8y"
      },
      "outputs": [],
      "source": [
        "# Standardizing 10th percent Column\n",
        "scaled_10 = scaler.fit_transform(df['Class10_percentage'].values.reshape(-1,1))\n",
        "print(scaled_10[:20])"
      ]
    },
    {
      "cell_type": "code",
      "execution_count": null,
      "metadata": {
        "colab": {
          "background_save": true
        },
        "id": "8BzJ_IAIfO1t"
      },
      "outputs": [],
      "source": [
        "# Standardizing 12th percent Column\n",
        "scaled_12 = scaler.fit_transform(df['Class12_percentage'].values.reshape(-1,1))\n",
        "print(scaled_12[:20])"
      ]
    },
    {
      "cell_type": "code",
      "execution_count": null,
      "metadata": {
        "colab": {
          "background_save": true
        },
        "id": "PowQsUQWfRGS"
      },
      "outputs": [],
      "source": [
        "# One-hot Encoding of Gender column\n",
        "dummies = pd.get_dummies(df[['Gender']])\n",
        "dummies"
      ]
    },
    {
      "cell_type": "code",
      "execution_count": null,
      "metadata": {
        "colab": {
          "background_save": true
        },
        "id": "l3H5H1C6fUJ6"
      },
      "outputs": [],
      "source": [
        "df1 = pd.concat([df,dummies],axis='columns')\n",
        "df1.head()"
      ]
    },
    {
      "cell_type": "code",
      "execution_count": null,
      "metadata": {
        "colab": {
          "background_save": true
        },
        "id": "rs18jEjvfWCy"
      },
      "outputs": [],
      "source": [
        "finaldf = df1.drop(['Gender','Gender_f'],axis='columns')\n",
        "finaldf"
      ]
    },
    {
      "cell_type": "code",
      "execution_count": null,
      "metadata": {
        "colab": {
          "background_save": true
        },
        "id": "Yy7-zzZ4fYJN"
      },
      "outputs": [],
      "source": []
    }
  ],
  "metadata": {
    "colab": {
      "name": "Untitled1.ipynb",
      "provenance": [],
      "authorship_tag": "ABX9TyOWiSqyP/2PRYz772mu4YXZ",
      "include_colab_link": true
    },
    "kernelspec": {
      "display_name": "Python 3",
      "name": "python3"
    },
    "language_info": {
      "name": "python"
    }
  },
  "nbformat": 4,
  "nbformat_minor": 0
}